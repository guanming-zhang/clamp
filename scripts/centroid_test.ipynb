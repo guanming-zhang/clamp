{
 "cells": [
  {
   "cell_type": "code",
   "execution_count": 1,
   "id": "02e5e4c6-90bd-4573-9323-b81b8ab2e690",
   "metadata": {},
   "outputs": [
    {
     "name": "stderr",
     "output_type": "stream",
     "text": [
      "/home/richard/miniconda3/envs/dl_env/lib/python3.12/site-packages/albumentations/__init__.py:24: UserWarning: A new version of Albumentations is available: 2.0.6 (you have 1.4.23). Upgrade using: pip install -U albumentations. To disable automatic update checks, set the environment variable NO_ALBUMENTATIONS_UPDATE to 1.\n",
      "  check_for_updates()\n"
     ]
    }
   ],
   "source": [
    "import sys\n",
    "import os\n",
    "SCRIPT_DIR = os.path.dirname(os.path.abspath(\".\"))\n",
    "sys.path.append(SCRIPT_DIR)\n",
    "import helper\n",
    "from utils import data_utils\n",
    "import matplotlib.pyplot as plt\n",
    "from utils import training_utils\n",
    "from utils import data_utils\n",
    "import torch\n",
    "from model import models\n",
    "import json\n",
    "import os\n",
    "from model import lightning_models\n",
    "import math\n",
    "from torchvision import datasets\n",
    "import analysis_utils\n",
    "import numpy as np"
   ]
  },
  {
   "cell_type": "code",
   "execution_count": 2,
   "id": "4e3f176c-07e0-46f9-883c-14da2b06d2d4",
   "metadata": {},
   "outputs": [],
   "source": [
    "n_views = 4\n",
    "batch_size = 8\n",
    "model_dir = \"../best_imagenet\""
   ]
  },
  {
   "cell_type": "code",
   "execution_count": 3,
   "id": "f46e2d36-ee86-4a51-b47e-96ca2cd3e72d",
   "metadata": {},
   "outputs": [
    {
     "name": "stdout",
     "output_type": "stream",
     "text": [
      "Loading default settings...\n",
      "[SemiSL]does not exist in the config file\n",
      "[TL]does not exist in the config file\n",
      "[KNN]does not exist in the config file\n",
      "[SemiSL]does not exist in the config file\n",
      "[TL]does not exist in the config file\n",
      "[KNN]does not exist in the config file\n",
      "[INFO]\n",
      "num_nodes = 1\n",
      "gpus_per_node = 1\n",
      "cpus_per_gpu = 4\n",
      "prefetch_factor = 2\n",
      "precision = 16-mixed\n",
      "fix_random_seed = True\n",
      "strategy = ddp\n",
      "if_profile = False\n",
      "\n",
      "[DATA]\n",
      "dataset = IMAGENET1K\n",
      "n_views = 4\n",
      "n_trans = 2\n",
      "augmentation_package = albumentations\n",
      "augmentations = ['RandomResizedCrop', 'GaussianBlur', 'RandomGrayscale', 'ColorJitter', 'RandomHorizontalFlip', 'RandomSolarize']\n",
      "crop_size = [224, 224]\n",
      "crop_min_scale = [0.08, 0.08]\n",
      "crop_max_scale = [1.0, 1.0]\n",
      "hflip_prob = [0.5, 0.5]\n",
      "blur_kernel_size = [23, 23]\n",
      "blur_prob = [1.0, 0.1]\n",
      "grayscale_prob = [0.2, 0.2]\n",
      "jitter_brightness = [0.4, 0.4]\n",
      "jitter_contrast = [0.4, 0.4]\n",
      "jitter_saturation = [0.2, 0.2]\n",
      "jitter_hue = [0.1, 0.1]\n",
      "jitter_prob = [0.8, 0.8]\n",
      "solarize_prob = [0.0, 0.2]\n",
      "imagenet_train_dir = /home/richard/HPC-Scratch/sig-ml/clap/datasets/imagenet1k/train/train.lmdb\n",
      "imagenet_val_dir = /home/richard/HPC-Scratch/sig-ml/clap/datasets/imagenet1k/val/val.lmdb\n",
      "\n",
      "[SSL]\n",
      "backbone = resnet50\n",
      "use_projection_head = True\n",
      "proj_dim = [8192, 8192]\n",
      "proj_out_dim = 512\n",
      "optimizer = LARS\n",
      "lr = 0.9\n",
      "lr_scale = linear\n",
      "lr_scheduler = cosine-warmup\n",
      "grad_accumulation_steps = 1\n",
      "momentum = 0.9\n",
      "weight_decay = 1e-06\n",
      "exclude_bn_bias_from_weight_decay = True\n",
      "lars_eta = 0.001\n",
      "loss_function = LogRepulsiveEllipsoidPackingLossUnitNorm\n",
      "lw0 = 0.0\n",
      "lw1 = 1.0\n",
      "lw2 = 0.0\n",
      "max_mem_size = 0\n",
      "rs = 7.0\n",
      "pot_pow = 2.0\n",
      "max_grad_norm = -1.0\n",
      "warmup_epochs = 10\n",
      "n_epochs = 100\n",
      "restart_epochs = -1\n",
      "batch_size = 1024\n",
      "save_every_n_epochs = 10\n",
      "restart_training = False\n",
      "\n",
      "[LC]\n",
      "output_dim = 1000\n",
      "optimizer = SGD\n",
      "use_batch_norm = False\n",
      "lr_sweep = [0.1, 0.2, 0.4, 0.8, 1.6]\n",
      "lr_scale = linear\n",
      "lr_scheduler = cosine\n",
      "weight_decay = 1e-06\n",
      "momentum = 0.9\n",
      "loss_function = CrossEntropyLoss\n",
      "n_epochs = 100\n",
      "batch_size = 2048\n",
      "save_every_n_epochs = 50\n",
      "apply_simple_augmentations = True\n",
      "standardize_to_imagenet = True\n",
      "restart_training = False\n",
      "\n",
      "max_mem_size is dummy for LogRepulsiveEllipsoidPackingLossUnitNorm\n",
      "lw2 is dummy for LogRepulsiveEllipsoidPackingLossUnitNorm\n"
     ]
    }
   ],
   "source": [
    "config = helper.Config(model_dir,default_config_file=\"../default_configs/default_config_imagenet1k.ini\")\n",
    "if \"CIFAR\" in config.DATA[\"dataset\"] or \"MNIST\" in config.DATA[\"dataset\"]:\n",
    "    prune_backbone = True\n",
    "else:\n",
    "    prune_backbone = False\n",
    "ssl_model = lightning_models.CLAP(backbone_name = config.SSL[\"backbone\"],\n",
    "                                  prune = prune_backbone,\n",
    "                                  use_projection_head=config.SSL[\"use_projection_head\"],\n",
    "                                  proj_dim = config.SSL[\"proj_dim\"],\n",
    "                                  proj_out_dim = config.SSL[\"proj_out_dim\"],\n",
    "                                  loss_name= config.SSL[\"loss_function\"],\n",
    "                                  optim_name = config.SSL[\"optimizer\"],\n",
    "                                  lr = 1.0,\n",
    "                                  scheduler_name = config.SSL[\"lr_scheduler\"],\n",
    "                                  momentum = config.SSL[\"momentum\"],\n",
    "                                  weight_decay = config.SSL[\"weight_decay\"],\n",
    "                                  eta = config.SSL[\"lars_eta\"],\n",
    "                                  warmup_epochs = config.SSL[\"warmup_epochs\"],\n",
    "                                  n_epochs = config.SSL[\"n_epochs\"],\n",
    "                                  n_views = config.DATA[\"n_views\"],\n",
    "                                  batch_size = config.SSL[\"batch_size\"],\n",
    "                                  lw0 = config.SSL[\"lw0\"],\n",
    "                                  lw1 = config.SSL[\"lw1\"],\n",
    "                                  lw2 = config.SSL[\"lw2\"],\n",
    "                                  rs = config.SSL[\"rs\"],\n",
    "                                  pot_pow = config.SSL[\"pot_pow\"])"
   ]
  },
  {
   "cell_type": "code",
   "execution_count": 4,
   "id": "3c9804cf-370e-42d1-a79b-3b80518bc219",
   "metadata": {},
   "outputs": [
    {
     "ename": "KeyboardInterrupt",
     "evalue": "",
     "output_type": "error",
     "traceback": [
      "\u001b[0;31m---------------------------------------------------------------------------\u001b[0m",
      "\u001b[0;31mKeyboardInterrupt\u001b[0m                         Traceback (most recent call last)",
      "Cell \u001b[0;32mIn[4], line 1\u001b[0m\n\u001b[0;32m----> 1\u001b[0m ssl_train_loader,ssl_test_loader,ssl_val_loader \u001b[38;5;241m=\u001b[39m \u001b[43mdata_utils\u001b[49m\u001b[38;5;241;43m.\u001b[39;49m\u001b[43mget_dataloader\u001b[49m\u001b[43m(\u001b[49m\u001b[43mconfig\u001b[49m\u001b[38;5;241;43m.\u001b[39;49m\u001b[43mDATA\u001b[49m\u001b[43m,\u001b[49m\u001b[43mbatch_size\u001b[49m\u001b[43m \u001b[49m\u001b[38;5;241;43m=\u001b[39;49m\u001b[43m \u001b[49m\u001b[38;5;241;43m8\u001b[39;49m\u001b[43m,\u001b[49m\n\u001b[1;32m      2\u001b[0m \u001b[43m                                                                            \u001b[49m\u001b[43mnum_workers\u001b[49m\u001b[43m \u001b[49m\u001b[38;5;241;43m=\u001b[39;49m\u001b[43m \u001b[49m\u001b[43mconfig\u001b[49m\u001b[38;5;241;43m.\u001b[39;49m\u001b[43mINFO\u001b[49m\u001b[43m[\u001b[49m\u001b[38;5;124;43m\"\u001b[39;49m\u001b[38;5;124;43mcpus_per_gpu\u001b[39;49m\u001b[38;5;124;43m\"\u001b[39;49m\u001b[43m]\u001b[49m\u001b[43m,\u001b[49m\n\u001b[1;32m      3\u001b[0m \u001b[43m                                                                            \u001b[49m\u001b[43mstandardized_to_imagenet\u001b[49m\u001b[38;5;241;43m=\u001b[39;49m\u001b[38;5;28;43;01mFalse\u001b[39;49;00m\u001b[43m,\u001b[49m\n\u001b[1;32m      4\u001b[0m \u001b[43m                                                                            \u001b[49m\u001b[43maugment_val_set\u001b[49m\u001b[43m \u001b[49m\u001b[38;5;241;43m=\u001b[39;49m\u001b[43m \u001b[49m\u001b[38;5;28;43;01mTrue\u001b[39;49;00m\u001b[43m,\u001b[49m\n\u001b[1;32m      5\u001b[0m \u001b[43m                                                                            \u001b[49m\u001b[43mprefetch_factor\u001b[49m\u001b[38;5;241;43m=\u001b[39;49m\u001b[43mconfig\u001b[49m\u001b[38;5;241;43m.\u001b[39;49m\u001b[43mINFO\u001b[49m\u001b[43m[\u001b[49m\u001b[38;5;124;43m\"\u001b[39;49m\u001b[38;5;124;43mprefetch_factor\u001b[39;49m\u001b[38;5;124;43m\"\u001b[39;49m\u001b[43m]\u001b[49m\u001b[43m,\u001b[49m\n\u001b[1;32m      6\u001b[0m \u001b[43m                                                                            \u001b[49m\u001b[43maug_pkg\u001b[49m\u001b[43m \u001b[49m\u001b[38;5;241;43m=\u001b[39;49m\u001b[43m \u001b[49m\u001b[38;5;124;43m\"\u001b[39;49m\u001b[38;5;124;43mtorchvision\u001b[39;49m\u001b[38;5;124;43m\"\u001b[39;49m\u001b[43m)\u001b[49m\n",
      "File \u001b[0;32m~/Documents/code/clap/utils/data_utils.py:323\u001b[0m, in \u001b[0;36mget_dataloader\u001b[0;34m(info, batch_size, num_workers, standardized_to_imagenet, augment_val_set, prefetch_factor, aug_pkg)\u001b[0m\n\u001b[1;32m    321\u001b[0m \u001b[38;5;28;01mif\u001b[39;00m train_dir\u001b[38;5;241m.\u001b[39mendswith(\u001b[38;5;124m\"\u001b[39m\u001b[38;5;124mlmdb\u001b[39m\u001b[38;5;124m\"\u001b[39m) \u001b[38;5;129;01mand\u001b[39;00m val_dir\u001b[38;5;241m.\u001b[39mendswith(\u001b[38;5;124m\"\u001b[39m\u001b[38;5;124mlmdb\u001b[39m\u001b[38;5;124m\"\u001b[39m):\n\u001b[1;32m    322\u001b[0m     img_type \u001b[38;5;241m=\u001b[39m \u001b[38;5;124m\"\u001b[39m\u001b[38;5;124mPIL\u001b[39m\u001b[38;5;124m\"\u001b[39m \u001b[38;5;28;01mif\u001b[39;00m aug_pkg\u001b[38;5;241m==\u001b[39m\u001b[38;5;124m\"\u001b[39m\u001b[38;5;124mtorchvision\u001b[39m\u001b[38;5;124m\"\u001b[39m \u001b[38;5;28;01melse\u001b[39;00m \u001b[38;5;124m\"\u001b[39m\u001b[38;5;124mNumpy\u001b[39m\u001b[38;5;124m\"\u001b[39m\n\u001b[0;32m--> 323\u001b[0m     train_dataset \u001b[38;5;241m=\u001b[39m \u001b[43mImageFolderLMDB\u001b[49m\u001b[43m(\u001b[49m\u001b[43mtrain_dir\u001b[49m\u001b[43m,\u001b[49m\u001b[43mimg_type\u001b[49m\u001b[38;5;241;43m=\u001b[39;49m\u001b[43mimg_type\u001b[49m\u001b[43m)\u001b[49m\n\u001b[1;32m    324\u001b[0m     test_dataset \u001b[38;5;241m=\u001b[39m ImageFolderLMDB(val_dir,img_type\u001b[38;5;241m=\u001b[39mimg_type)\n\u001b[1;32m    325\u001b[0m \u001b[38;5;28;01melif\u001b[39;00m aug_pkg \u001b[38;5;241m==\u001b[39m \u001b[38;5;124m\"\u001b[39m\u001b[38;5;124malbumentations\u001b[39m\u001b[38;5;124m\"\u001b[39m:\n",
      "File \u001b[0;32m~/Documents/code/clap/utils/lmdb_dataset.py:30\u001b[0m, in \u001b[0;36mImageFolderLMDB.__init__\u001b[0;34m(self, db_path, transform, target_transform, img_type)\u001b[0m\n\u001b[1;32m     28\u001b[0m \u001b[38;5;28;01mwith\u001b[39;00m \u001b[38;5;28mself\u001b[39m\u001b[38;5;241m.\u001b[39menv\u001b[38;5;241m.\u001b[39mbegin(write\u001b[38;5;241m=\u001b[39m\u001b[38;5;28;01mFalse\u001b[39;00m) \u001b[38;5;28;01mas\u001b[39;00m txn:\n\u001b[1;32m     29\u001b[0m     \u001b[38;5;28mself\u001b[39m\u001b[38;5;241m.\u001b[39mlength \u001b[38;5;241m=\u001b[39m pickle\u001b[38;5;241m.\u001b[39mloads(txn\u001b[38;5;241m.\u001b[39mget(\u001b[38;5;124mb\u001b[39m\u001b[38;5;124m'\u001b[39m\u001b[38;5;124m__len__\u001b[39m\u001b[38;5;124m'\u001b[39m))\n\u001b[0;32m---> 30\u001b[0m     \u001b[38;5;28mself\u001b[39m\u001b[38;5;241m.\u001b[39mkeys \u001b[38;5;241m=\u001b[39m pickle\u001b[38;5;241m.\u001b[39mloads(\u001b[43mtxn\u001b[49m\u001b[38;5;241;43m.\u001b[39;49m\u001b[43mget\u001b[49m\u001b[43m(\u001b[49m\u001b[38;5;124;43mb\u001b[39;49m\u001b[38;5;124;43m'\u001b[39;49m\u001b[38;5;124;43m__keys__\u001b[39;49m\u001b[38;5;124;43m'\u001b[39;49m\u001b[43m)\u001b[49m)\n\u001b[1;32m     31\u001b[0m \u001b[38;5;28mself\u001b[39m\u001b[38;5;241m.\u001b[39mimg_type \u001b[38;5;241m=\u001b[39m img_type\n\u001b[1;32m     32\u001b[0m \u001b[38;5;28mself\u001b[39m\u001b[38;5;241m.\u001b[39mtransform \u001b[38;5;241m=\u001b[39m transform\n",
      "\u001b[0;31mKeyboardInterrupt\u001b[0m: "
     ]
    }
   ],
   "source": [
    "ssl_train_loader,ssl_test_loader,ssl_val_loader = data_utils.get_dataloader(config.DATA,batch_size = 8,\n",
    "                                                                            num_workers = config.INFO[\"cpus_per_gpu\"],\n",
    "                                                                            standardized_to_imagenet=False,\n",
    "                                                                            augment_val_set = True,\n",
    "                                                                            prefetch_factor=config.INFO[\"prefetch_factor\"],\n",
    "                                                                            aug_pkg = \"torchvision\")"
   ]
  },
  {
   "cell_type": "code",
   "execution_count": null,
   "id": "e4e7b637-3fee-4e93-84e0-6849a554ce00",
   "metadata": {},
   "outputs": [],
   "source": [
    "imgs,labels = next(iter(ssl_train_loader))\n",
    "\n",
    "img_list, label_list = [],[]\n",
    "for i_view in range(2):\n",
    "    for j_img in range(2):\n",
    "        img_list.append(imgs[i_view][j_img])\n",
    "        #label_list.append(classes[labels[i_view][j_img]])\n",
    "data_utils.show_images(img_list,2,2,label_list)\n"
   ]
  },
  {
   "cell_type": "code",
   "execution_count": null,
   "id": "8a4c119f-cac8-4187-bc66-73d5e1a36cbc",
   "metadata": {},
   "outputs": [],
   "source": []
  },
  {
   "cell_type": "code",
   "execution_count": null,
   "id": "e568e2ae-8ed7-4929-897b-fa8a42591973",
   "metadata": {},
   "outputs": [],
   "source": [
    "def sample_embedding(net,data_loader,count=100):\n",
    "    embedding_vecs = []\n",
    "    i = 0\n",
    "    for i,data in enumerate(data_loader):\n",
    "        imgs,labels = data\n",
    "        if i > count - 1:\n",
    "            break\n",
    "        imgs = torch.cat(imgs,dim=0).to(device)\n",
    "        with torch.no_grad():\n",
    "            preds = net(imgs)\n",
    "            preds = torch.reshape(preds,(n_views,batch_size,preds.shape[-1]))\n",
    "            # save as CPU tensor to save GPU memory\n",
    "            embedding_vecs.append(preds.detach().cpu())\n",
    "    embedding_vecs = torch.cat(embedding_vecs,dim=1)\n",
    "    print(embedding_vecs.shape)\n",
    "    # preds is [V,B*count,O] dimesional matrix\n",
    "    com = torch.mean(embedding_vecs,dim=(0,1))\n",
    "    # make the center of mass of pres locate at the origin\n",
    "    #embedding_vecs -= com\n",
    "    # normalize\n",
    "    embedding_vecs = torch.nn.functional.normalize(embedding_vecs,dim=-1)\n",
    "    # centers.shape = [B*count,O] for B*ws ellipsoids\n",
    "    centers = torch.mean(embedding_vecs,dim=0)\n",
    "    return centers"
   ]
  },
  {
   "cell_type": "code",
   "execution_count": null,
   "id": "bcbaf80b-12eb-41b4-bb23-560460ff5034",
   "metadata": {},
   "outputs": [],
   "source": [
    "device = torch.device(\"cuda:0\")  # Use GPU 0\n",
    "backbone = ssl_model.backbone.to(device)\n",
    "# make sure the projection head is not removed\n",
    "for name, param in ssl_model.backbone.projection_head.named_parameters():\n",
    "    print(f\"{name}: {param.shape}\")\n",
    "distances_0 = []\n",
    "cosine_0 = []\n",
    "for repeat in range(20):\n",
    "    _centers = sample_embedding(backbone,ssl_train_loader,count=128)\n",
    "    _distances = torch.sqrt(torch.sum((_centers[None,:,:] - _centers[:,None,:])**2,dim=-1) + 1e-12)\n",
    "    _distances = torch.flatten(_distances).detach().cpu().numpy()\n",
    "    _distances = _distances[np.where(_distances>1e-6)] # exclude self-distances\n",
    "    _cosine = torch.einsum('ik,jk->ij',_centers,_centers)\n",
    "    _cosine = torch.flatten(_cosine).detach().cpu().numpy()\n",
    "    distances_0.append(_distances)\n",
    "    cosine_0.append(_cosine)\n",
    "distances_0 = np.concatenate(distances_0)\n",
    "cosine_0 = np.concatenate(cosine_0)"
   ]
  },
  {
   "cell_type": "code",
   "execution_count": 8,
   "id": "026ef3f9-5f60-43b0-83c1-a5a6c7c7db4e",
   "metadata": {},
   "outputs": [
    {
     "name": "stdout",
     "output_type": "stream",
     "text": [
      "../simulation_imagenet/ssl/ssl-epoch=99.ckpt\n",
      "Found pretrained model at ../simulation_imagenet/ssl/ssl-epoch=99.ckpt, loading...\n"
     ]
    },
    {
     "name": "stderr",
     "output_type": "stream",
     "text": [
      "/home/guanming/miniconda3/envs/mydl/lib/python3.8/site-packages/lightning_fabric/utilities/cloud_io.py:57: You are using `torch.load` with `weights_only=False` (the current default value), which uses the default pickle module implicitly. It is possible to construct malicious pickle data which will execute arbitrary code during unpickling (See https://github.com/pytorch/pytorch/blob/main/SECURITY.md#untrusted-models for more details). In a future release, the default value for `weights_only` will be flipped to `True`. This limits the functions that could be executed during unpickling. Arbitrary objects will no longer be allowed to be loaded via this mode unless they are explicitly allowlisted by the user via `torch.serialization.add_safe_globals`. We recommend you start setting `weights_only=True` for any use case where you don't have full control of the loaded file. Please open an issue on GitHub for any issues related to this experimental feature.\n",
      "/home/guanming/miniconda3/envs/mydl/lib/python3.8/site-packages/pytorch_lightning/utilities/migration/utils.py:56: The loaded checkpoint was produced with Lightning v2.4.0, which is newer than your current Lightning version: v2.3.0\n"
     ]
    },
    {
     "name": "stdout",
     "output_type": "stream",
     "text": [
      "max_mem_size is dummy for LogRepulsiveEllipsoidPackingLossUnitNorm\n",
      "lw2 is dummy for LogRepulsiveEllipsoidPackingLossUnitNorm\n",
      "0.weight: torch.Size([8192, 2048])\n",
      "0.bias: torch.Size([8192])\n",
      "2.weight: torch.Size([8192, 8192])\n",
      "2.bias: torch.Size([8192])\n",
      "4.weight: torch.Size([512, 8192])\n",
      "4.bias: torch.Size([512])\n",
      "torch.Size([4, 1024, 512])\n",
      "torch.Size([4, 1024, 512])\n",
      "torch.Size([4, 1024, 512])\n",
      "torch.Size([4, 1024, 512])\n",
      "torch.Size([4, 1024, 512])\n",
      "torch.Size([4, 1024, 512])\n",
      "torch.Size([4, 1024, 512])\n",
      "torch.Size([4, 1024, 512])\n",
      "torch.Size([4, 1024, 512])\n",
      "torch.Size([4, 1024, 512])\n",
      "torch.Size([4, 1024, 512])\n",
      "torch.Size([4, 1024, 512])\n",
      "torch.Size([4, 1024, 512])\n",
      "torch.Size([4, 1024, 512])\n",
      "torch.Size([4, 1024, 512])\n",
      "torch.Size([4, 1024, 512])\n",
      "torch.Size([4, 1024, 512])\n",
      "torch.Size([4, 1024, 512])\n",
      "torch.Size([4, 1024, 512])\n",
      "torch.Size([4, 1024, 512])\n"
     ]
    }
   ],
   "source": [
    "device = torch.device(\"cuda:0\")  # Use GPU 0\n",
    "last_filename = os.path.join(model_dir,\"ssl\",'ssl-epoch=99.ckpt')\n",
    "print(last_filename)\n",
    "if os.path.isfile(last_filename):\n",
    "    print(f'Found pretrained model at {last_filename}, loading...')\n",
    "    ssl_model = lightning_models.CLAP.load_from_checkpoint(last_filename)\n",
    "backbone = ssl_model.backbone.to(device)\n",
    "# make sure the projection head is not removed\n",
    "for name, param in ssl_model.backbone.projection_head.named_parameters():\n",
    "    print(f\"{name}: {param.shape}\")\n",
    "distances_f = []\n",
    "cosine_f = []\n",
    "for repeat in range(20):\n",
    "    _centers = sample_embedding(backbone,ssl_train_loader,count=128)\n",
    "    _distances = torch.sqrt(torch.sum((_centers[None,:,:] - _centers[:,None,:])**2,dim=-1) + 1e-12)\n",
    "    _distances = torch.flatten(_distances).detach().cpu().numpy()\n",
    "    _distances = _distances[np.where(_distances>1e-6)] # exclude self-distances\n",
    "    _cosine = torch.einsum('ik,jk->ij',_centers,_centers)\n",
    "    _cosine = torch.flatten(_cosine).detach().cpu().numpy()\n",
    "    distances_f.append(_distances)\n",
    "    cosine_f.append(_cosine)\n",
    "distances_f = np.concatenate(distances_f)\n",
    "cosine_f = np.concatenate(cosine_f)"
   ]
  },
  {
   "cell_type": "code",
   "execution_count": 1,
   "id": "d9d4743f-76bc-4be8-852e-f54c18679dd7",
   "metadata": {},
   "outputs": [
    {
     "ename": "NameError",
     "evalue": "name 'plt' is not defined",
     "output_type": "error",
     "traceback": [
      "\u001b[0;31m---------------------------------------------------------------------------\u001b[0m",
      "\u001b[0;31mNameError\u001b[0m                                 Traceback (most recent call last)",
      "Cell \u001b[0;32mIn[1], line 1\u001b[0m\n\u001b[0;32m----> 1\u001b[0m fig1 \u001b[38;5;241m=\u001b[39m \u001b[43mplt\u001b[49m\u001b[38;5;241m.\u001b[39mfigure(figsize\u001b[38;5;241m=\u001b[39m(\u001b[38;5;241m5\u001b[39m, \u001b[38;5;241m4\u001b[39m))\n\u001b[1;32m      2\u001b[0m ax1 \u001b[38;5;241m=\u001b[39m fig1\u001b[38;5;241m.\u001b[39madd_axes(\u001b[38;5;241m111\u001b[39m)\n\u001b[1;32m      3\u001b[0m ax1\u001b[38;5;241m.\u001b[39mhist(distances_0, bins\u001b[38;5;241m=\u001b[39m\u001b[38;5;241m30\u001b[39m, density\u001b[38;5;241m=\u001b[39m\u001b[38;5;28;01mTrue\u001b[39;00m, rwidth\u001b[38;5;241m=\u001b[39m\u001b[38;5;241m0.8\u001b[39m,alpha\u001b[38;5;241m=\u001b[39m\u001b[38;5;241m0.6\u001b[39m, label\u001b[38;5;241m=\u001b[39m\u001b[38;5;124m'\u001b[39m\u001b[38;5;124muntrained\u001b[39m\u001b[38;5;124m'\u001b[39m)\n",
      "\u001b[0;31mNameError\u001b[0m: name 'plt' is not defined"
     ]
    }
   ],
   "source": [
    "fig1 = plt.figure(figsize=(5, 4))\n",
    "ax1 = fig1.add_axes(111)\n",
    "ax1.hist(distances_0, bins=30, density=True, rwidth=0.8,alpha=0.6, label='untrained')\n",
    "ax1.hist(distances_f, bins=30, density=True, rwidth=0.8,alpha=0.6, label='trained')\n",
    "ax1.set_ylabel(\"distances\",fontsize=18)\n",
    "ax1.tick_params(axis='both', labelsize=18)\n",
    "ax1.legend(fontsize=18)\n",
    "plt.savefig(\"embedding_distances.png\",bbox_inches='tight',dpi=600) "
   ]
  },
  {
   "cell_type": "code",
   "execution_count": 10,
   "id": "c46b208b-824a-429a-8050-2ff1b61e7fe4",
   "metadata": {},
   "outputs": [
    {
     "data": {
      "image/png": "[encoded data removed]",
      "text/plain": [
       "<Figure size 640x480 with 1 Axes>"
      ]
     },
     "metadata": {},
     "output_type": "display_data"
    }
   ],
   "source": [
    "fig2 = plt.figure()\n",
    "ax2 = fig2.add_axes(111)\n",
    "ax2.hist(cosine_0, bins=30, density=True, rwidth=0.8,alpha=0.6, label='untrained')\n",
    "ax2.hist(cosine_f, bins=30, density=True, rwidth=0.8,alpha=0.6, label='trained')\n",
    "ax2.set_ylabel(\"cosine similarity\",fontsize=18)\n",
    "ax2.tick_params(axis='both', labelsize=18)\n",
    "ax2.legend(fontsize=18)\n",
    "plt.savefig(\"embedding_cosine.png\",bbox_inches='tight',dpi=1200) "
   ]
  },
  {
   "cell_type": "code",
   "execution_count": null,
   "id": "73c15ef7-74f0-4084-97b8-28433b3cd118",
   "metadata": {},
   "outputs": [],
   "source": []
  },
  {
   "cell_type": "code",
   "execution_count": null,
   "id": "69244f0a-0f71-4b1f-ac44-087d9bebb663",
   "metadata": {},
   "outputs": [],
   "source": []
  }
 ],
 "metadata": {
  "kernelspec": {
   "display_name": "Python 3 (ipykernel)",
   "language": "python",
   "name": "python3"
  },
  "language_info": {
   "codemirror_mode": {
    "name": "ipython",
    "version": 3
   },
   "file_extension": ".py",
   "mimetype": "text/x-python",
   "name": "python",
   "nbconvert_exporter": "python",
   "pygments_lexer": "ipython3",
   "version": "3.12.2"
  }
 },
 "nbformat": 4,
 "nbformat_minor": 5
}
