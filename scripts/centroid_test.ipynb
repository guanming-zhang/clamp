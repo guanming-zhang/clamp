{
 "cells": [
  {
   "cell_type": "code",
   "execution_count": 1,
   "id": "02e5e4c6-90bd-4573-9323-b81b8ab2e690",
   "metadata": {},
   "outputs": [
    {
     "name": "stderr",
     "output_type": "stream",
     "text": [
      "/home/richard/miniconda3/envs/dl_env/lib/python3.12/site-packages/albumentations/__init__.py:24: UserWarning: A new version of Albumentations is available: 2.0.1 (you have 1.4.23). Upgrade using: pip install -U albumentations. To disable automatic update checks, set the environment variable NO_ALBUMENTATIONS_UPDATE to 1.\n",
      "  check_for_updates()\n"
     ]
    }
   ],
   "source": [
    "import sys\n",
    "import os\n",
    "SCRIPT_DIR = os.path.dirname(os.path.abspath(\".\"))\n",
    "sys.path.append(SCRIPT_DIR)\n",
    "import helper\n",
    "from utils import data_utils\n",
    "import matplotlib.pyplot as plt\n",
    "from utils import training_utils\n",
    "from utils import data_utils\n",
    "import torch\n",
    "from model import models\n",
    "import json\n",
    "import os\n",
    "from model import lightning_models\n",
    "import math\n",
    "from torchvision import datasets\n",
    "import analysis_utils\n",
    "import numpy as np"
   ]
  },
  {
   "cell_type": "code",
   "execution_count": 2,
   "id": "4e3f176c-07e0-46f9-883c-14da2b06d2d4",
   "metadata": {},
   "outputs": [],
   "source": [
    "n_views = 100\n",
    "batch_size = 8\n",
    "model_dir = \"../simulations\""
   ]
  },
  {
   "cell_type": "code",
   "execution_count": 3,
   "id": "f46e2d36-ee86-4a51-b47e-96ca2cd3e72d",
   "metadata": {},
   "outputs": [
    {
     "name": "stdout",
     "output_type": "stream",
     "text": [
      "Loading default settings...\n",
      "[SemiSL]does not exist in the config file\n",
      "[TL]does not exist in the config file\n",
      "[SemiSL]does not exist in the config file\n",
      "[TL]does not exist in the config file\n",
      "[INFO]\n",
      "num_nodes = 1\n",
      "gpus_per_node = 2\n",
      "cpus_per_gpu = 12\n",
      "prefetch_factor = 2\n",
      "precision = 16-mixed\n",
      "fix_random_seed = True\n",
      "strategy = ddp\n",
      "if_profile = False\n",
      "\n",
      "[DATA]\n",
      "dataset = CIFAR10\n",
      "n_views = 16\n",
      "augmentations = ['RandomResizedCrop', 'GaussianBlur', 'RandomGrayscale', 'ColorJitter', 'RandomHorizontalFlip']\n",
      "augmentation_package = albumentations\n",
      "crop_size = 32\n",
      "crop_min_scale = 0.08\n",
      "crop_max_scale = 1.0\n",
      "hflip_prob = 0.5\n",
      "blur_kernel_size = 3\n",
      "blur_prob = 0.5\n",
      "grayscale_prob = 0.2\n",
      "jitter_brightness = 0.8\n",
      "jitter_contrast = 0.8\n",
      "jitter_saturation = 0.8\n",
      "jitter_hue = 0.2\n",
      "jitter_prob = 0.8\n",
      "\n",
      "[SSL]\n",
      "backbone = resnet18\n",
      "use_projection_head = True\n",
      "proj_dim = 2048\n",
      "proj_out_dim = 256\n",
      "optimizer = LARS\n",
      "lr = 7.2\n",
      "lr_scale = linear\n",
      "lr_scheduler = cosine-warmup\n",
      "grad_accumulation_steps = 1\n",
      "momentum = 0.0\n",
      "weight_decay = 0.0001\n",
      "lars_eta = 0.001\n",
      "loss_function = PackingLoss\n",
      "lw0 = 0.0\n",
      "lw1 = 1.0\n",
      "lw2 = 0.0\n",
      "pot_pow = 1.0\n",
      "rs = 3.0\n",
      "warmup_epochs = 1\n",
      "n_epochs = 2\n",
      "batch_size = 64\n",
      "save_every_n_epochs = 1\n",
      "restart_training = False\n",
      "\n",
      "[LC]\n",
      "output_dim = 10\n",
      "optimizer = Adam\n",
      "use_batch_norm = False\n",
      "lr = 0.2\n",
      "lr_scale = linear\n",
      "lr_scheduler = cosine\n",
      "weight_decay = 0.0\n",
      "momentum = -1.0\n",
      "loss_function = CrossEntropyLoss\n",
      "n_epochs = 100\n",
      "save_every_n_epochs = 50\n",
      "batch_size = 1024\n",
      "apply_simple_augmentations = True\n",
      "standardize_to_imagenet = False\n",
      "restart_training = False\n",
      "lr_sweep = [0.3, 0.1, 0.05]\n",
      "\n",
      "lr overrided by lr_sweep!!\n"
     ]
    }
   ],
   "source": [
    "config = helper.Config(model_dir,default_config_file=\"../default_configs/default_config_cifar10.ini\")\n",
    "if \"CIFAR\" in config.DATA[\"dataset\"] or \"MNIST\" in config.DATA[\"dataset\"]:\n",
    "    prune_backbone = True\n",
    "else:\n",
    "    prune_backbone = False\n",
    "ssl_model = lightning_models.CLAP(backbone_name = config.SSL[\"backbone\"],\n",
    "                                  prune = prune_backbone,\n",
    "                                  use_projection_head=config.SSL[\"use_projection_head\"],\n",
    "                                  proj_dim = config.SSL[\"proj_dim\"],\n",
    "                                  proj_out_dim = config.SSL[\"proj_out_dim\"],\n",
    "                                  loss_name= config.SSL[\"loss_function\"],\n",
    "                                  optim_name = config.SSL[\"optimizer\"],\n",
    "                                  lr = 1.0,\n",
    "                                  scheduler_name = config.SSL[\"lr_scheduler\"],\n",
    "                                  momentum = config.SSL[\"momentum\"],\n",
    "                                  weight_decay = config.SSL[\"weight_decay\"],\n",
    "                                  eta = config.SSL[\"lars_eta\"],\n",
    "                                  warmup_epochs = config.SSL[\"warmup_epochs\"],\n",
    "                                  n_epochs = config.SSL[\"n_epochs\"],\n",
    "                                  n_views = config.DATA[\"n_views\"],\n",
    "                                  batch_size = config.SSL[\"batch_size\"],\n",
    "                                  lw0 = config.SSL[\"lw0\"],\n",
    "                                  lw1 = config.SSL[\"lw1\"],\n",
    "                                  lw2 = config.SSL[\"lw2\"],\n",
    "                                  rs = config.SSL[\"rs\"],\n",
    "                                  pot_pow = config.SSL[\"pot_pow\"])"
   ]
  },
  {
   "cell_type": "code",
   "execution_count": 4,
   "id": "3c9804cf-370e-42d1-a79b-3b80518bc219",
   "metadata": {},
   "outputs": [],
   "source": [
    "ssl_train_loader,ssl_test_loader,ssl_val_loader = data_utils.get_dataloader(config.DATA,batch_size = 8,\n",
    "                                                                            num_workers = config.INFO[\"cpus_per_gpu\"],\n",
    "                                                                            standardized_to_imagenet=False,\n",
    "                                                                            augment_val_set = True,\n",
    "                                                                            prefetch_factor=config.INFO[\"prefetch_factor\"],\n",
    "                                                                            aug_pkg = \"torchvision\")"
   ]
  },
  {
   "cell_type": "code",
   "execution_count": 5,
   "id": "e4e7b637-3fee-4e93-84e0-6849a554ce00",
   "metadata": {},
   "outputs": [
    {
     "data": {
      "text/plain": [
       "'\\nimg_list, label_list = [],[]\\nfor i_view in range(2):\\n    for j_img in range(2):\\n        img_list.append(imgs[i_view][j_img])\\n        #label_list.append(classes[labels[i_view][j_img]])\\ndata_utils.show_images(img_list,2,2,label_list)\\n'"
      ]
     },
     "execution_count": 5,
     "metadata": {},
     "output_type": "execute_result"
    }
   ],
   "source": [
    "imgs,labels = next(iter(test_loader))\n",
    "'''\n",
    "img_list, label_list = [],[]\n",
    "for i_view in range(2):\n",
    "    for j_img in range(2):\n",
    "        img_list.append(imgs[i_view][j_img])\n",
    "        #label_list.append(classes[labels[i_view][j_img]])\n",
    "data_utils.show_images(img_list,2,2,label_list)\n",
    "'''"
   ]
  },
  {
   "cell_type": "code",
   "execution_count": 6,
   "id": "8a4c119f-cac8-4187-bc66-73d5e1a36cbc",
   "metadata": {},
   "outputs": [
    {
     "name": "stdout",
     "output_type": "stream",
     "text": [
      "Found pretrained model at ../simulations/ssl/best_val.ckpt, loading...\n"
     ]
    }
   ],
   "source": [
    "device = torch.device(\"cuda:0\")  # Use GPU 0\n",
    "trained_filename = os.path.join(model_dir,\"ssl\",'best_val.ckpt')\n",
    "if os.path.isfile(trained_filename):\n",
    "    print(f'Found pretrained model at {trained_filename}, loading...')\n",
    "    ssl_model = lightning_models.CLAP.load_from_checkpoint(trained_filename)\n",
    "backbone = ssl_model.backbone.to(device)"
   ]
  },
  {
   "cell_type": "code",
   "execution_count": 144,
   "id": "e568e2ae-8ed7-4929-897b-fa8a42591973",
   "metadata": {},
   "outputs": [],
   "source": [
    "def sample_embedding(net,data_loader,count=1000):\n",
    "    embedding_vecs = []\n",
    "    i = 0\n",
    "    for i,data in enumerate(data_loader):\n",
    "        imgs,labels = data\n",
    "        if i > count - 1:\n",
    "            break\n",
    "        all_labels.append(labels[0].detach().cpu())\n",
    "        imgs = torch.cat(imgs,dim=0).to(device)\n",
    "        with torch.no_grad():\n",
    "            preds = net(imgs)\n",
    "            preds = torch.reshape(preds,(n_views,batch_size,preds.shape[-1]))\n",
    "            # save as CPU tensor to save GPU memory\n",
    "            embedding_vecs.append(preds.detach().cpu())\n",
    "    embedding_vecs = torch.cat(center_vecs,dim=1)\n",
    "    # preds is [V,B*count,O] dimesional matrix\n",
    "    com = torch.mean(preds,dim=(0,1))\n",
    "    # make the center of mass of pres locate at the origin\n",
    "    preds -= com\n",
    "    # normalize\n",
    "    preds = torch.nn.functional.normalize(preds,dim=-1)\n",
    "    # centers.shape = [B*count,O] for B*ws ellipsoids\n",
    "    centers = torch.mean(preds,dim=0)\n",
    "    return centers"
   ]
  },
  {
   "cell_type": "code",
   "execution_count": 145,
   "id": "bcbaf80b-12eb-41b4-bb23-560460ff5034",
   "metadata": {},
   "outputs": [],
   "source": [
    "center_vecs,eigen_vecs,traces,all_labels = sample_submanifolds(backbone,test_dataset,count=100)"
   ]
  },
  {
   "cell_type": "code",
   "execution_count": 146,
   "id": "d9d4743f-76bc-4be8-852e-f54c18679dd7",
   "metadata": {},
   "outputs": [],
   "source": [
    "avg = torch.mean(centers,dim=0)**2\n",
    "cov = torch.matmul(torch.permute(centers,(1,2,0)), torch.permute(centers,(1,0,2)))/centers.shape[1]-1.0) # size B*O*O\n"
   ]
  },
  {
   "cell_type": "code",
   "execution_count": null,
   "id": "9e9f2ad5-c513-4689-8666-9eb41168e002",
   "metadata": {},
   "outputs": [],
   "source": [
    "ckpt_format = os.path.join(model_dir,\"ssl\",'ssl-epoch=XXX.ckpt')\n",
    "epochs = []\n",
    "q1 = []\n",
    "q2 = []\n",
    "for i in range(1,90,10):\n",
    "    epoch = i - 1\n",
    "    ckpt_file = ckpt_format.replace(\"XXX\",str(epoch))\n",
    "    device = torch.device(\"cuda:0\")  # Use GPU 0\n",
    "    if os.path.isfile(ckpt_file):\n",
    "        print(f'Found pretrained model at {trained_filename}, loading...')\n",
    "        ssl_model = lightning_models.CLAP.load_from_checkpoint(trained_filename)\n",
    "    backbone = ssl_model.backbone.to(device)\n",
    "    train_loader,test_loader,val_loader = data_utils.get_dataloader(config.DATA,batch_size = 8,\n",
    "                                                                    num_workers = config.INFO[\"cpus_per_gpu\"],\n",
    "                                                                    standardized_to_imagenet=False,\n",
    "                                                                    augment_val_set = True,\n",
    "                                                                    prefetch_factor=config.INFO[\"prefetch_factor\"],\n",
    "                                                                    aug_pkg = \"torchvision\")\n",
    "    centers = sample_embedding(net,val_loader,count=1000)\n",
    "    avg = torch.mean(centers,dim=0)\n",
    "    cov = torch.matmul(torch.permute(centers,(1,2,0)), torch.permute(centers,(1,0,2)))/centers.shape[1]-1.0) # size B*O*O\n",
    "    _q1 = torch.sqrt(avg*avg + 1e-12)\n",
    "    _q2 = torch.sqrt((cov - torch.eye(proj_out_dim))**2 / proj_out_dim  + 1e-12)\n",
    "    q1.append(_q1)\n",
    "    q2.append(_q2)"
   ]
  },
  {
   "cell_type": "code",
   "execution_count": null,
   "id": "73c15ef7-74f0-4084-97b8-28433b3cd118",
   "metadata": {},
   "outputs": [],
   "source": []
  },
  {
   "cell_type": "code",
   "execution_count": null,
   "id": "69244f0a-0f71-4b1f-ac44-087d9bebb663",
   "metadata": {},
   "outputs": [],
   "source": []
  }
 ],
 "metadata": {
  "kernelspec": {
   "display_name": "Python 3 (ipykernel)",
   "language": "python",
   "name": "python3"
  },
  "language_info": {
   "codemirror_mode": {
    "name": "ipython",
    "version": 3
   },
   "file_extension": ".py",
   "mimetype": "text/x-python",
   "name": "python",
   "nbconvert_exporter": "python",
   "pygments_lexer": "ipython3",
   "version": "3.12.2"
  }
 },
 "nbformat": 4,
 "nbformat_minor": 5
}
