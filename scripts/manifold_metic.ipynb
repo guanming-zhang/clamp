{
 "cells": [
  {
   "cell_type": "code",
   "execution_count": 62,
   "id": "02e5e4c6-90bd-4573-9323-b81b8ab2e690",
   "metadata": {},
   "outputs": [],
   "source": [
    "import sys\n",
    "import os\n",
    "SCRIPT_DIR = os.path.dirname(os.path.abspath(\".\"))\n",
    "sys.path.append(SCRIPT_DIR)\n",
    "import helper\n",
    "from utils import data_utils\n",
    "import matplotlib.pyplot as plt\n",
    "from utils import training_utils\n",
    "from utils import data_utils\n",
    "import torch\n",
    "from model import models\n",
    "import json\n",
    "import os\n",
    "from model import lightning_models\n",
    "import math\n",
    "from torchvision import datasets\n",
    "import analysis_utils"
   ]
  },
  {
   "cell_type": "code",
   "execution_count": 67,
   "id": "4e3f176c-07e0-46f9-883c-14da2b06d2d4",
   "metadata": {},
   "outputs": [],
   "source": [
    "n_views = 4\n",
    "batch_size = 2"
   ]
  },
  {
   "cell_type": "code",
   "execution_count": 2,
   "id": "f46e2d36-ee86-4a51-b47e-96ca2cd3e72d",
   "metadata": {},
   "outputs": [
    {
     "name": "stdout",
     "output_type": "stream",
     "text": [
      "Loading default settings...\n",
      "[SemiSL]does not exist in the config file\n",
      "[TL]does not exist in the config file\n",
      "[SemiSL]does not exist in the config file\n",
      "[TL]does not exist in the config file\n",
      "[INFO]\n",
      "num_nodes = 1\n",
      "gpus_per_node = 1\n",
      "cpus_per_gpu = 8\n",
      "prefetch_factor = 2\n",
      "precision = 16-mixed\n",
      "fix_random_seed = True\n",
      "strategy = auto\n",
      "if_profile = True\n",
      "\n",
      "[DATA]\n",
      "dataset = CIFAR10\n",
      "n_views = 8\n",
      "augmentations = ['RandomResizedCrop', 'GaussianBlur', 'RandomGrayscale', 'ColorJitter', 'RandomHorizontalFlip']\n",
      "augmentation_package = albumentations\n",
      "crop_size = 32\n",
      "crop_min_scale = 0.08\n",
      "crop_max_scale = 1.0\n",
      "hflip_prob = 0.5\n",
      "blur_kernel_size = 1\n",
      "blur_prob = 0.5\n",
      "grayscale_prob = 0.2\n",
      "jitter_brightness = 0.8\n",
      "jitter_contrast = 0.8\n",
      "jitter_saturation = 0.8\n",
      "jitter_hue = 0.2\n",
      "jitter_prob = 0.8\n",
      "\n",
      "[SSL]\n",
      "backbone = resnet18\n",
      "backbone_out_dim = 2048\n",
      "use_projection_head = True\n",
      "proj_dim = 2048\n",
      "proj_out_dim = 128\n",
      "optimizer = LARS\n",
      "lr = 0.8\n",
      "lr_scale = linear\n",
      "lr_scheduler = cosine-warmup\n",
      "grad_accumulation_steps = 1\n",
      "momentum = 0.0\n",
      "weight_decay = 0.0001\n",
      "lars_eta = 0.001\n",
      "loss_function = RepulsiveEllipsoidPackingLossStdNorm\n",
      "lw0 = 0.0\n",
      "lw1 = 1.0\n",
      "lw2 = 0.0\n",
      "pot_pow = 1.0\n",
      "rs = 3.0\n",
      "warmup_epochs = 1\n",
      "n_epochs = 5\n",
      "batch_size = 64\n",
      "save_every_n_epochs = 1\n",
      "restart_training = False\n",
      "\n",
      "[LC]\n",
      "output_dim = 10\n",
      "optimizer = SGD\n",
      "use_batch_norm = False\n",
      "lr = 0.2\n",
      "lr_scale = linear\n",
      "lr_scheduler = cosine\n",
      "weight_decay = 0.0\n",
      "momentum = 0.9\n",
      "loss_function = CrossEntropyLoss\n",
      "n_epochs = 6\n",
      "save_every_n_epochs = 3\n",
      "batch_size = 256\n",
      "apply_simple_augmentations = True\n",
      "standardize_to_imagenet = False\n",
      "restart_training = False\n",
      "lr_sweep = [0.1, 0.2, 0.3]\n",
      "\n",
      "lr overrided by lr_sweep!!\n"
     ]
    }
   ],
   "source": [
    "config = helper.Config(\"../simulations\",default_config_file=\"../default_configs/default_config_cifar10.ini\")\n",
    "if \"CIFAR\" in config.DATA[\"dataset\"] or \"MNIST\" in config.DATA[\"dataset\"]:\n",
    "    prune_backbone = True\n",
    "else:\n",
    "    prune_backbone = False\n",
    "ssl_model = lightning_models.CLAP(backbone_name = config.SSL[\"backbone\"],\n",
    "                                  backbone_out_dim = config.SSL[\"backbone_out_dim\"],\n",
    "                                  prune = prune_backbone,\n",
    "                                  use_projection_head=config.SSL[\"use_projection_head\"],\n",
    "                                  proj_dim = config.SSL[\"proj_dim\"],\n",
    "                                  proj_out_dim = config.SSL[\"proj_out_dim\"],\n",
    "                                  loss_name= config.SSL[\"loss_function\"],\n",
    "                                  optim_name = config.SSL[\"optimizer\"],\n",
    "                                  lr = 1.0,\n",
    "                                  scheduler_name = config.SSL[\"lr_scheduler\"],\n",
    "                                  momentum = config.SSL[\"momentum\"],\n",
    "                                  weight_decay = config.SSL[\"weight_decay\"],\n",
    "                                  eta = config.SSL[\"lars_eta\"],\n",
    "                                  warmup_epochs = config.SSL[\"warmup_epochs\"],\n",
    "                                  n_epochs = config.SSL[\"n_epochs\"],\n",
    "                                  n_views = config.DATA[\"n_views\"],\n",
    "                                  batch_size = config.SSL[\"batch_size\"],\n",
    "                                  lw0 = config.SSL[\"lw0\"],\n",
    "                                  lw1 = config.SSL[\"lw1\"],\n",
    "                                  lw2 = config.SSL[\"lw2\"],\n",
    "                                  rs = config.SSL[\"rs\"],\n",
    "                                  pot_pow = config.SSL[\"pot_pow\"])"
   ]
  },
  {
   "cell_type": "code",
   "execution_count": 68,
   "id": "3c9804cf-370e-42d1-a79b-3b80518bc219",
   "metadata": {},
   "outputs": [],
   "source": [
    "test_dataset = datasets.CIFAR10(root=\"../datasets/cifar10\", train=False,download=False)\n",
    "aug_ops = config.DATA[\"augmentations\"] + [\"ToTensor\",\"Normalize\"]\n",
    "config.DATA[\"mean4norm\"] = [0.491,0.482,0.446]\n",
    "config.DATA[\"std4norm\"] = [0.247,0.243,0.261]  \n",
    "transform = data_utils.get_transform(aug_ops,aug_params=config.DATA,aug_pkg=\"torchvision\")\n",
    "test_dataset = data_utils.WrappedDataset(test_dataset,transform,n_views = n_views,aug_pkg=\"torchvision\")\n",
    "test_loader = torch.utils.data.DataLoader(test_dataset,batch_size = batch_size,shuffle=False,drop_last=True,\n",
    "                                              num_workers = 4,pin_memory=True)"
   ]
  },
  {
   "cell_type": "code",
   "execution_count": 69,
   "id": "e4e7b637-3fee-4e93-84e0-6849a554ce00",
   "metadata": {},
   "outputs": [
    {
     "data": {
      "text/plain": [
       "'\\nimg_list, label_list = [],[]\\nfor i_view in range(2):\\n    for j_img in range(2):\\n        img_list.append(imgs[i_view][j_img])\\n        #label_list.append(classes[labels[i_view][j_img]])\\ndata_utils.show_images(img_list,2,2,label_list)\\n'"
      ]
     },
     "execution_count": 69,
     "metadata": {},
     "output_type": "execute_result"
    }
   ],
   "source": [
    "imgs,labels = next(iter(test_loader))\n",
    "'''\n",
    "img_list, label_list = [],[]\n",
    "for i_view in range(2):\n",
    "    for j_img in range(2):\n",
    "        img_list.append(imgs[i_view][j_img])\n",
    "        #label_list.append(classes[labels[i_view][j_img]])\n",
    "data_utils.show_images(img_list,2,2,label_list)\n",
    "'''"
   ]
  },
  {
   "cell_type": "code",
   "execution_count": 70,
   "id": "8a4c119f-cac8-4187-bc66-73d5e1a36cbc",
   "metadata": {},
   "outputs": [],
   "source": [
    "device = torch.device(\"cuda:0\")  # Use GPU 0\n",
    "ssl_model.backbone.remove_projection_head()\n",
    "backbone = ssl_model.backbone.to(device)"
   ]
  },
  {
   "cell_type": "code",
   "execution_count": 73,
   "id": "e568e2ae-8ed7-4929-897b-fa8a42591973",
   "metadata": {},
   "outputs": [],
   "source": [
    "center_vecs = []\n",
    "cov_mats = []\n",
    "all_labels = []\n",
    "for imgs,labels in test_loader:\n",
    "    all_labels.append(labels[0])\n",
    "    imgs = torch.cat(imgs,dim=0).to(device)\n",
    "    labels = torch.cat(labels,dim=0)\n",
    "    with torch.no_grad():\n",
    "        preds = backbone(imgs)\n",
    "        preds = torch.reshape(preds,(n_views,batch_size,preds.shape[-1]))\n",
    "        centers = torch.mean(preds,dim=0)\n",
    "        preds -= centers\n",
    "        cov = torch.matmul(torch.permute(preds,(1,2,0)), torch.permute(preds,(1,0,2)))/n_views # size B*O*O\n",
    "        center_vecs.append(centers)\n",
    "        cov_mats.append(cov_mats)"
   ]
  },
  {
   "cell_type": "code",
   "execution_count": 53,
   "id": "bcbaf80b-12eb-41b4-bb23-560460ff5034",
   "metadata": {},
   "outputs": [],
   "source": [
    "center_vecs = torch.cat(center_vecs,dim=0)\n",
    "cov_mats = torch.cat(cov_mats,dim=0)"
   ]
  },
  {
   "cell_type": "code",
   "execution_count": 54,
   "id": "d9d4743f-76bc-4be8-852e-f54c18679dd7",
   "metadata": {},
   "outputs": [
    {
     "data": {
      "text/plain": [
       "torch.Size([20000, 2048])"
      ]
     },
     "execution_count": 54,
     "metadata": {},
     "output_type": "execute_result"
    }
   ],
   "source": [
    "analysis_utils"
   ]
  },
  {
   "cell_type": "code",
   "execution_count": null,
   "id": "06ab8635-5037-44cb-916c-403c15ff230e",
   "metadata": {},
   "outputs": [],
   "source": []
  }
 ],
 "metadata": {
  "kernelspec": {
   "display_name": "Python 3 (ipykernel)",
   "language": "python",
   "name": "python3"
  },
  "language_info": {
   "codemirror_mode": {
    "name": "ipython",
    "version": 3
   },
   "file_extension": ".py",
   "mimetype": "text/x-python",
   "name": "python",
   "nbconvert_exporter": "python",
   "pygments_lexer": "ipython3",
   "version": "3.12.2"
  }
 },
 "nbformat": 4,
 "nbformat_minor": 5
}
