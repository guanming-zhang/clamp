{
 "cells": [
  {
   "cell_type": "code",
   "execution_count": 118,
   "id": "02e5e4c6-90bd-4573-9323-b81b8ab2e690",
   "metadata": {},
   "outputs": [],
   "source": [
    "import sys\n",
    "import os\n",
    "SCRIPT_DIR = os.path.dirname(os.path.abspath(\".\"))\n",
    "sys.path.append(SCRIPT_DIR)\n",
    "import helper\n",
    "from utils import data_utils\n",
    "import matplotlib.pyplot as plt\n",
    "from utils import training_utils\n",
    "from utils import data_utils\n",
    "import torch\n",
    "from model import models\n",
    "import json\n",
    "import os\n",
    "from model import lightning_models\n",
    "import math\n",
    "from torchvision import datasets\n",
    "import analysis_utils\n",
    "import numpy as np"
   ]
  },
  {
   "cell_type": "code",
   "execution_count": 119,
   "id": "4e3f176c-07e0-46f9-883c-14da2b06d2d4",
   "metadata": {},
   "outputs": [],
   "source": [
    "n_views = 128\n",
    "batch_size = 2\n",
    "model_dir = \"../simulations\""
   ]
  },
  {
   "cell_type": "code",
   "execution_count": 120,
   "id": "f46e2d36-ee86-4a51-b47e-96ca2cd3e72d",
   "metadata": {},
   "outputs": [
    {
     "name": "stdout",
     "output_type": "stream",
     "text": [
      "Loading default settings...\n",
      "[SemiSL]does not exist in the config file\n",
      "[TL]does not exist in the config file\n",
      "[SemiSL]does not exist in the config file\n",
      "[TL]does not exist in the config file\n",
      "[INFO]\n",
      "num_nodes = 1\n",
      "gpus_per_node = 2\n",
      "cpus_per_gpu = 12\n",
      "prefetch_factor = 2\n",
      "precision = 16-mixed\n",
      "fix_random_seed = True\n",
      "strategy = ddp\n",
      "if_profile = False\n",
      "\n",
      "[DATA]\n",
      "dataset = CIFAR10\n",
      "n_views = 16\n",
      "augmentations = ['RandomResizedCrop', 'GaussianBlur', 'RandomGrayscale', 'ColorJitter', 'RandomHorizontalFlip']\n",
      "augmentation_package = albumentations\n",
      "crop_size = 32\n",
      "crop_min_scale = 0.08\n",
      "crop_max_scale = 1.0\n",
      "hflip_prob = 0.5\n",
      "blur_kernel_size = 3\n",
      "blur_prob = 0.5\n",
      "grayscale_prob = 0.2\n",
      "jitter_brightness = 0.8\n",
      "jitter_contrast = 0.8\n",
      "jitter_saturation = 0.8\n",
      "jitter_hue = 0.2\n",
      "jitter_prob = 0.8\n",
      "\n",
      "[SSL]\n",
      "backbone = resnet18\n",
      "backbone_out_dim = 2048\n",
      "use_projection_head = True\n",
      "proj_dim = 2048\n",
      "proj_out_dim = 256\n",
      "optimizer = LARS\n",
      "lr = 7.2\n",
      "lr_scale = linear\n",
      "lr_scheduler = cosine-warmup\n",
      "grad_accumulation_steps = 1\n",
      "momentum = 0.0\n",
      "weight_decay = 0.0001\n",
      "lars_eta = 0.001\n",
      "loss_function = RepulsiveEllipsoidPackingLossStdNorm\n",
      "lw0 = 0.0\n",
      "lw1 = 1.0\n",
      "lw2 = 0.0\n",
      "pot_pow = 2.0\n",
      "rs = 6.5\n",
      "warmup_epochs = 10\n",
      "n_epochs = 1000\n",
      "batch_size = 128\n",
      "save_every_n_epochs = 100\n",
      "restart_training = False\n",
      "\n",
      "[LC]\n",
      "output_dim = 10\n",
      "optimizer = Adam\n",
      "use_batch_norm = False\n",
      "lr = 0.2\n",
      "lr_scale = linear\n",
      "lr_scheduler = cosine\n",
      "weight_decay = 0.0\n",
      "momentum = -1.0\n",
      "loss_function = CrossEntropyLoss\n",
      "n_epochs = 100\n",
      "save_every_n_epochs = 50\n",
      "batch_size = 1024\n",
      "apply_simple_augmentations = True\n",
      "standardize_to_imagenet = False\n",
      "restart_training = False\n",
      "lr_sweep = [0.3, 0.1, 0.05]\n",
      "\n",
      "lr overrided by lr_sweep!!\n"
     ]
    }
   ],
   "source": [
    "config = helper.Config(model_dir,default_config_file=\"../default_configs/default_config_cifar10.ini\")\n",
    "if \"CIFAR\" in config.DATA[\"dataset\"] or \"MNIST\" in config.DATA[\"dataset\"]:\n",
    "    prune_backbone = True\n",
    "else:\n",
    "    prune_backbone = False\n",
    "ssl_model = lightning_models.CLAP(backbone_name = config.SSL[\"backbone\"],\n",
    "                                  backbone_out_dim = config.SSL[\"backbone_out_dim\"],\n",
    "                                  prune = prune_backbone,\n",
    "                                  use_projection_head=config.SSL[\"use_projection_head\"],\n",
    "                                  proj_dim = config.SSL[\"proj_dim\"],\n",
    "                                  proj_out_dim = config.SSL[\"proj_out_dim\"],\n",
    "                                  loss_name= config.SSL[\"loss_function\"],\n",
    "                                  optim_name = config.SSL[\"optimizer\"],\n",
    "                                  lr = 1.0,\n",
    "                                  scheduler_name = config.SSL[\"lr_scheduler\"],\n",
    "                                  momentum = config.SSL[\"momentum\"],\n",
    "                                  weight_decay = config.SSL[\"weight_decay\"],\n",
    "                                  eta = config.SSL[\"lars_eta\"],\n",
    "                                  warmup_epochs = config.SSL[\"warmup_epochs\"],\n",
    "                                  n_epochs = config.SSL[\"n_epochs\"],\n",
    "                                  n_views = config.DATA[\"n_views\"],\n",
    "                                  batch_size = config.SSL[\"batch_size\"],\n",
    "                                  lw0 = config.SSL[\"lw0\"],\n",
    "                                  lw1 = config.SSL[\"lw1\"],\n",
    "                                  lw2 = config.SSL[\"lw2\"],\n",
    "                                  rs = config.SSL[\"rs\"],\n",
    "                                  pot_pow = config.SSL[\"pot_pow\"])"
   ]
  },
  {
   "cell_type": "code",
   "execution_count": 121,
   "id": "3c9804cf-370e-42d1-a79b-3b80518bc219",
   "metadata": {},
   "outputs": [],
   "source": [
    "test_dataset = datasets.CIFAR10(root=\"../datasets/cifar10\", train=False,download=False)\n",
    "aug_ops = config.DATA[\"augmentations\"] + [\"ToTensor\",\"Normalize\"]\n",
    "config.DATA[\"mean4norm\"] = [0.491,0.482,0.446]\n",
    "config.DATA[\"std4norm\"] = [0.247,0.243,0.261]  \n",
    "transform = data_utils.get_transform(aug_ops,aug_params=config.DATA,aug_pkg=\"torchvision\")\n",
    "test_dataset = data_utils.WrappedDataset(test_dataset,transform,n_views = n_views,aug_pkg=\"torchvision\")\n",
    "test_loader = torch.utils.data.DataLoader(test_dataset,batch_size = batch_size,shuffle=True,drop_last=True,\n",
    "                                              num_workers = 4,pin_memory=True)"
   ]
  },
  {
   "cell_type": "code",
   "execution_count": 122,
   "id": "e4e7b637-3fee-4e93-84e0-6849a554ce00",
   "metadata": {},
   "outputs": [
    {
     "data": {
      "text/plain": [
       "'\\nimg_list, label_list = [],[]\\nfor i_view in range(2):\\n    for j_img in range(2):\\n        img_list.append(imgs[i_view][j_img])\\n        #label_list.append(classes[labels[i_view][j_img]])\\ndata_utils.show_images(img_list,2,2,label_list)\\n'"
      ]
     },
     "execution_count": 122,
     "metadata": {},
     "output_type": "execute_result"
    }
   ],
   "source": [
    "imgs,labels = next(iter(test_loader))\n",
    "'''\n",
    "img_list, label_list = [],[]\n",
    "for i_view in range(2):\n",
    "    for j_img in range(2):\n",
    "        img_list.append(imgs[i_view][j_img])\n",
    "        #label_list.append(classes[labels[i_view][j_img]])\n",
    "data_utils.show_images(img_list,2,2,label_list)\n",
    "'''"
   ]
  },
  {
   "cell_type": "code",
   "execution_count": 123,
   "id": "8a4c119f-cac8-4187-bc66-73d5e1a36cbc",
   "metadata": {},
   "outputs": [
    {
     "name": "stdout",
     "output_type": "stream",
     "text": [
      "Found pretrained model at ../simulations/ssl/best_val.ckpt, loading...\n"
     ]
    }
   ],
   "source": [
    "device = torch.device(\"cuda:0\")  # Use GPU 0\n",
    "trained_filename = os.path.join(model_dir,\"ssl\",'best_val.ckpt')\n",
    "if os.path.isfile(trained_filename):\n",
    "    print(f'Found pretrained model at {trained_filename}, loading...')\n",
    "    ssl_model = lightning_models.CLAP.load_from_checkpoint(trained_filename)\n",
    "ssl_model.backbone.remove_projection_head()\n",
    "backbone = ssl_model.backbone.to(device)"
   ]
  },
  {
   "cell_type": "code",
   "execution_count": 124,
   "id": "e568e2ae-8ed7-4929-897b-fa8a42591973",
   "metadata": {},
   "outputs": [],
   "source": [
    "def sample_submanifolds(backbone,test_dataset,count=100):\n",
    "    test_loader = torch.utils.data.DataLoader(test_dataset,batch_size = batch_size,shuffle=True,drop_last=True,\n",
    "                                              num_workers = 4,pin_memory=True)\n",
    "    center_vecs = []\n",
    "    eigen_vecs = []\n",
    "    all_labels = []\n",
    "    traces = []\n",
    "    i = 0\n",
    "    for i,data in enumerate(test_loader):\n",
    "        imgs,labels = data\n",
    "        if i > count - 1:\n",
    "            break\n",
    "        all_labels.append(labels[0].detach().cpu())\n",
    "        imgs = torch.cat(imgs,dim=0).to(device)\n",
    "        with torch.no_grad():\n",
    "            preds = backbone(imgs)\n",
    "            preds = torch.reshape(preds,(n_views,batch_size,preds.shape[-1]))\n",
    "            centers = torch.mean(preds,dim=0)\n",
    "            preds -= centers\n",
    "            cov = torch.matmul(torch.permute(preds,(1,2,0)), torch.permute(preds,(1,0,2)))/n_views # size B*O*O\n",
    "            eigen = analysis_utils.power_iteration(cov)\n",
    "            trace = torch.tensor(analysis_utils.get_cov_traces(cov),requires_grad=False)\n",
    "            # save as CPU tensor to save GPU memory\n",
    "            center_vecs.append(centers.detach().cpu())\n",
    "            eigen_vecs.append(eigen.detach().cpu())\n",
    "            traces.append(trace)\n",
    "    center_vecs = torch.cat(center_vecs,dim=0)\n",
    "    eigen_vecs = torch.cat(eigen_vecs,dim=0)\n",
    "    traces = torch.cat(traces,dim=0)\n",
    "    all_labels = torch.cat(all_labels,dim=-1)\n",
    "    return center_vecs,eigen_vecs,traces,all_labels"
   ]
  },
  {
   "cell_type": "code",
   "execution_count": 125,
   "id": "bcbaf80b-12eb-41b4-bb23-560460ff5034",
   "metadata": {},
   "outputs": [],
   "source": [
    "center_vecs,eigen_vecs,traces,all_labels = sample_submanifolds(backbone,test_dataset,count=100)"
   ]
  },
  {
   "cell_type": "code",
   "execution_count": 126,
   "id": "d9d4743f-76bc-4be8-852e-f54c18679dd7",
   "metadata": {},
   "outputs": [],
   "source": [
    "#center_vecs -= torch.mean(center_vecs,dim=0)\n",
    "dist_matrix = analysis_utils.get_dist(center_vecs)\n",
    "eigen_sim = analysis_utils.get_cosine_sim(eigen_vecs)\n",
    "centroid_sim = analysis_utils.get_cosine_sim(center_vecs)"
   ]
  },
  {
   "cell_type": "code",
   "execution_count": 127,
   "id": "20ecd878-cb11-4ccd-90d2-9c6e610a7d9a",
   "metadata": {},
   "outputs": [],
   "source": [
    "def inner_pairs(indices):\n",
    "    print(len(indices))\n",
    "    unique_pairs = [[indices[i], indices[j]] for i in range(len(indices)) for j in range(i+1, len(indices))]\n",
    "    return np.array(unique_pairs)"
   ]
  },
  {
   "cell_type": "code",
   "execution_count": 128,
   "id": "8b6c6417-8b12-4b52-aa78-264b32aca553",
   "metadata": {},
   "outputs": [],
   "source": [
    "def cross_pairs(ind1,ind2):\n",
    "    pairs = [[ind1[i], ind2[j]] for i in range(len(ind1)) for j in range(len(ind2))]\n",
    "    return np.array(pairs)"
   ]
  },
  {
   "cell_type": "code",
   "execution_count": 129,
   "id": "8d5b8876-c867-4426-814a-805a47db9338",
   "metadata": {},
   "outputs": [
    {
     "name": "stdout",
     "output_type": "stream",
     "text": [
      "25\n",
      "16\n",
      "21\n",
      "20\n",
      "17\n",
      "17\n",
      "21\n",
      "29\n",
      "12\n"
     ]
    }
   ],
   "source": [
    "class_indices = [np.where(all_labels==i)[0] for i in range(9)]\n",
    "inner_dist = []\n",
    "inter_dist = []\n",
    "for indices in class_indices:\n",
    "    pair = inner_pairs(indices)\n",
    "    inner_dist.append(eigen_sim[pair[:,0],pair[:,1]])\n",
    "for i in range(len(class_indices)):\n",
    "    for j in range(len(class_indices)):\n",
    "        pair = cross_pairs(class_indices[i],class_indices[j])\n",
    "        inter_dist.append(eigen_sim[pair[:,0],pair[:,1]])\n",
    "inner_dist = np.concatenate(inner_dist,axis=0)\n",
    "inter_dist = np.concatenate(inter_dist,axis=0)"
   ]
  },
  {
   "cell_type": "code",
   "execution_count": 130,
   "id": "ea44a4a7-c865-48ce-8d60-83ba8c66de31",
   "metadata": {},
   "outputs": [
    {
     "data": {
      "image/png": "[encoded data removed]",
      "text/plain": [
       "<Figure size 800x600 with 1 Axes>"
      ]
     },
     "metadata": {},
     "output_type": "display_data"
    }
   ],
   "source": [
    "fig = plt.figure(figsize=(8, 6))\n",
    "ax = fig.add_axes(111)\n",
    "ax.hist(inner_dist, bins=60, alpha=0.6,density = True)\n",
    "ax.hist(inter_dist, bins=60, alpha=0.6,density = True)\n",
    "plt.show()"
   ]
  },
  {
   "cell_type": "code",
   "execution_count": 104,
   "id": "e9368dcb-cb95-4056-86b1-6d5fbd2290ff",
   "metadata": {},
   "outputs": [
    {
     "data": {
      "image/png": "[encoded data removed]",
      "text/plain": [
       "<Figure size 800x600 with 1 Axes>"
      ]
     },
     "metadata": {},
     "output_type": "display_data"
    }
   ],
   "source": [
    "plt.figure(figsize=(8, 6))\n",
    "plt.hist(inter_dist, bins=60, alpha=0.6)\n",
    "plt.show()"
   ]
  },
  {
   "cell_type": "code",
   "execution_count": 116,
   "id": "6293ddd0-67ba-4bd0-b30c-fb6d203e291a",
   "metadata": {},
   "outputs": [
    {
     "data": {
      "image/png": "[encoded data removed]",
      "text/plain": [
       "<Figure size 800x600 with 1 Axes>"
      ]
     },
     "metadata": {},
     "output_type": "display_data"
    }
   ],
   "source": [
    "plt.figure(figsize=(8, 6))\n",
    "plt.hist(traces[class_indices[0]], bins=30, alpha=0.6, label='Dataset 1')\n",
    "plt.show()   "
   ]
  },
  {
   "cell_type": "code",
   "execution_count": 117,
   "id": "0690c2d4-5dae-499d-b676-1695c9338eaf",
   "metadata": {},
   "outputs": [
    {
     "data": {
      "image/png": "[encoded data removed]",
      "text/plain": [
       "<Figure size 800x600 with 1 Axes>"
      ]
     },
     "metadata": {},
     "output_type": "display_data"
    }
   ],
   "source": [
    "plt.figure(figsize=(8, 6))\n",
    "plt.hist(traces[class_indices[1]], bins=30, alpha=0.6, label='Dataset 1')\n",
    "plt.show()   \n"
   ]
  },
  {
   "cell_type": "code",
   "execution_count": 107,
   "id": "6b47eaab-ceb1-4c61-a756-a822a8dbf09f",
   "metadata": {},
   "outputs": [
    {
     "data": {
      "image/png": "[encoded data removed]",
      "text/plain": [
       "<Figure size 800x600 with 1 Axes>"
      ]
     },
     "metadata": {},
     "output_type": "display_data"
    }
   ],
   "source": [
    "plt.figure(figsize=(8, 6))\n",
    "plt.hist(traces[class_indices[8]], bins=30, alpha=0.6, label='Dataset 1')\n",
    "plt.show()   "
   ]
  },
  {
   "cell_type": "code",
   "execution_count": 70,
   "id": "63d929eb-2d64-4aa0-9767-04e74ad1508c",
   "metadata": {},
   "outputs": [
    {
     "data": {
      "text/plain": [
       "array([  0,  12,  24,  26,  50,  75,  85,  99, 111, 113, 131, 158, 187,\n",
       "       190, 192, 196])"
      ]
     },
     "execution_count": 70,
     "metadata": {},
     "output_type": "execute_result"
    }
   ],
   "source": [
    "np.where(all_labels==2)[0]"
   ]
  },
  {
   "cell_type": "code",
   "execution_count": null,
   "id": "db152092-384b-4d31-94da-0d05c8cff18f",
   "metadata": {},
   "outputs": [],
   "source": []
  }
 ],
 "metadata": {
  "kernelspec": {
   "display_name": "Python 3 (ipykernel)",
   "language": "python",
   "name": "python3"
  },
  "language_info": {
   "codemirror_mode": {
    "name": "ipython",
    "version": 3
   },
   "file_extension": ".py",
   "mimetype": "text/x-python",
   "name": "python",
   "nbconvert_exporter": "python",
   "pygments_lexer": "ipython3",
   "version": "3.8.20"
  }
 },
 "nbformat": 4,
 "nbformat_minor": 5
}
