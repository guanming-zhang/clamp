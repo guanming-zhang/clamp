{
 "cells": [
  {
   "cell_type": "code",
   "execution_count": 1,
   "id": "33aaec0d-3499-447d-ba03-679e4425329a",
   "metadata": {},
   "outputs": [
    {
     "name": "stderr",
     "output_type": "stream",
     "text": [
      "/home/richard/miniconda3/envs/dl_env/lib/python3.12/site-packages/albumentations/__init__.py:24: UserWarning: A new version of Albumentations is available: 2.0.4 (you have 1.4.23). Upgrade using: pip install -U albumentations. To disable automatic update checks, set the environment variable NO_ALBUMENTATIONS_UPDATE to 1.\n",
      "  check_for_updates()\n"
     ]
    }
   ],
   "source": [
    "import sys\n",
    "import os\n",
    "SCRIPT_DIR = os.path.dirname(os.path.abspath(\".\"))\n",
    "sys.path.append(SCRIPT_DIR)\n",
    "import helper\n",
    "from utils import data_utils\n",
    "import matplotlib.pyplot as plt\n",
    "from utils import training_utils\n",
    "from utils import data_utils\n",
    "import torch\n",
    "from model import models\n",
    "import json\n",
    "import os\n",
    "from model import lightning_models\n",
    "import math\n",
    "from torchvision import datasets\n",
    "import analysis_utils\n",
    "import numpy as np\n",
    "import random\n",
    "from sklearn.manifold import TSNE\n",
    "from sklearn.preprocessing import MinMaxScaler"
   ]
  },
  {
   "cell_type": "code",
   "execution_count": 55,
   "id": "79ffaa5d-4bbf-46b4-902e-227ea0218b58",
   "metadata": {},
   "outputs": [],
   "source": [
    "n_views = 1\n",
    "batch_size = 4\n",
    "model_dir = \"../traning/lr_3.0\""
   ]
  },
  {
   "cell_type": "code",
   "execution_count": 56,
   "id": "76c75285-9edc-4d82-bbaa-ca72489a61c8",
   "metadata": {},
   "outputs": [
    {
     "name": "stdout",
     "output_type": "stream",
     "text": [
      "Loading default settings...\n",
      "[INFO]does not exist in the config file\n",
      "[DATA]does not exist in the config file\n",
      "[SSL]does not exist in the config file\n",
      "[LC]does not exist in the config file\n",
      "[SemiSL]does not exist in the config file\n",
      "[TL]does not exist in the config file\n",
      "[SemiSL]does not exist in the config file\n",
      "[TL]does not exist in the config file\n",
      "[INFO]\n",
      "num_nodes = 2\n",
      "gpus_per_node = 4\n",
      "cpus_per_gpu = 12\n",
      "prefetch_factor = 2\n",
      "precision = 16-mixed\n",
      "fix_random_seed = True\n",
      "strategy = ddp\n",
      "if_profile = False\n",
      "\n",
      "[DATA]\n",
      "dataset = IMAGENET1K-30percent\n",
      "n_views = 8\n",
      "augmentation_package = albumentations\n",
      "augmentations = ['RandomResizedCrop', 'GaussianBlur', 'RandomGrayscale', 'ColorJitter', 'RandomHorizontalFlip', 'RandomSolarize']\n",
      "crop_size = 224\n",
      "crop_min_scale = 0.08\n",
      "crop_max_scale = 1.0\n",
      "hflip_prob = 0.5\n",
      "blur_kernel_size = 23\n",
      "blur_prob = 0.5\n",
      "grayscale_prob = 0.2\n",
      "jitter_brightness = 0.8\n",
      "jitter_contrast = 0.8\n",
      "jitter_saturation = 0.8\n",
      "jitter_hue = 0.2\n",
      "jitter_prob = 0.8\n",
      "solarize_prob = 0.0\n",
      "imagenet_train_dir = /imagenet/train\n",
      "imagenet_val_dir = /imagenet/val\n",
      "\n",
      "[SSL]\n",
      "backbone = resnet50\n",
      "use_projection_head = True\n",
      "proj_dim = [8192, 8192]\n",
      "proj_out_dim = 512\n",
      "optimizer = LARS\n",
      "lr = 3.0\n",
      "lr_scale = linear\n",
      "lr_scheduler = cosine-warmup\n",
      "grad_accumulation_steps = 1\n",
      "momentum = 0.0\n",
      "weight_decay = 1e-05\n",
      "lars_eta = 0.001\n",
      "loss_function = RepulsiveEllipsoidPackingLossUnitNorm\n",
      "lw0 = 0.0\n",
      "lw1 = 1.0\n",
      "lw2 = 0.0\n",
      "max_mem_size = 0\n",
      "rs = 7.0\n",
      "pot_pow = 2.0\n",
      "max_grad_norm = -1.0\n",
      "warmup_epochs = 10\n",
      "n_epochs = 100\n",
      "batch_size = 800\n",
      "save_every_n_epochs = 10\n",
      "restart_training = False\n",
      "\n",
      "[LC]\n",
      "output_dim = 1000\n",
      "optimizer = SGD\n",
      "use_batch_norm = False\n",
      "lr_sweep = [0.6, 0.1]\n",
      "lr_scale = linear\n",
      "lr_scheduler = cosine\n",
      "weight_decay = 1e-06\n",
      "momentum = 0.9\n",
      "loss_function = CrossEntropyLoss\n",
      "n_epochs = 100\n",
      "batch_size = 1024\n",
      "save_every_n_epochs = 50\n",
      "apply_simple_augmentations = True\n",
      "standardize_to_imagenet = True\n",
      "restart_training = False\n",
      "\n",
      "max_mem_size is dummy for RepulsiveEllipsoidPackingLossUnitNorm\n",
      "lw2 is dummy for RepulsiveEllipsoidPackingLossUnitNorm\n"
     ]
    }
   ],
   "source": [
    "config = helper.Config(model_dir,default_config_file=\"../default_configs/default_config_imagenet.ini\")\n",
    "if \"CIFAR\" in config.DATA[\"dataset\"] or \"MNIST\" in config.DATA[\"dataset\"]:\n",
    "    prune_backbone = True\n",
    "else:\n",
    "    prune_backbone = False\n",
    "ssl_model = lightning_models.CLAP(backbone_name = config.SSL[\"backbone\"],\n",
    "                                  prune = prune_backbone,\n",
    "                                  use_projection_head=config.SSL[\"use_projection_head\"],\n",
    "                                  proj_dim = config.SSL[\"proj_dim\"],\n",
    "                                  proj_out_dim = config.SSL[\"proj_out_dim\"],\n",
    "                                  loss_name= config.SSL[\"loss_function\"],\n",
    "                                  optim_name = config.SSL[\"optimizer\"],\n",
    "                                  lr = 1.0,\n",
    "                                  scheduler_name = config.SSL[\"lr_scheduler\"],\n",
    "                                  momentum = config.SSL[\"momentum\"],\n",
    "                                  weight_decay = config.SSL[\"weight_decay\"],\n",
    "                                  eta = config.SSL[\"lars_eta\"],\n",
    "                                  warmup_epochs = config.SSL[\"warmup_epochs\"],\n",
    "                                  n_epochs = config.SSL[\"n_epochs\"],\n",
    "                                  n_views = config.DATA[\"n_views\"],\n",
    "                                  batch_size = config.SSL[\"batch_size\"],\n",
    "                                  lw0 = config.SSL[\"lw0\"],\n",
    "                                  lw1 = config.SSL[\"lw1\"],\n",
    "                                  lw2 = config.SSL[\"lw2\"],\n",
    "                                  rs = config.SSL[\"rs\"],\n",
    "                                  pot_pow = config.SSL[\"pot_pow\"])"
   ]
  },
  {
   "cell_type": "code",
   "execution_count": 57,
   "id": "baa0e16b-b879-458d-8601-1772c501b2a3",
   "metadata": {},
   "outputs": [],
   "source": [
    "val_dir = \"../datasets/imagenet1k/val/val.lmdb\"\n",
    "aug_ops = [\"ToTensor\",\"Normalize\",\"RandomResizedCrop\"]\n",
    "num_classes= 5\n",
    "mean= [0.485, 0.456, 0.406]\n",
    "std= [0.229, 0.224, 0.225]\n",
    "if val_dir.endswith(\"lmdb\"):\n",
    "    img_type = \"PIL\" \n",
    "    val_dataset = data_utils.ImageFolderLMDB(val_dir,img_type=img_type)\n",
    "else:\n",
    "    val_dataset = datasets.ImageFolder(root=val_dir)\n",
    "classes = random.sample(list(range(1000)),num_classes)\n",
    "sub_indices = [i for i in range(len(val_dataset)) if val_dataset[i][1] in classes]\n",
    "val_dataset = torch.utils.data.Subset(val_dataset, sub_indices)\n",
    "config.DATA[\"mean4norm\"] = mean\n",
    "config.DATA[\"std4norm\"] = std     \n",
    "transform = data_utils.get_transform(aug_ops,aug_params=config.DATA,aug_pkg=\"torchvision\")\n",
    "val_dataset = data_utils.WrappedDataset(val_dataset,transform,n_views = n_views,aug_pkg=\"torchvision\")\n",
    "val_loader = torch.utils.data.DataLoader(val_dataset,batch_size = batch_size,shuffle=True,drop_last=True,\n",
    "                                            num_workers=4,pin_memory=True,persistent_workers=True)"
   ]
  },
  {
   "cell_type": "code",
   "execution_count": null,
   "id": "e103224b-1e7e-4bd4-8570-1b9212524c6f",
   "metadata": {},
   "outputs": [],
   "source": []
  },
  {
   "cell_type": "code",
   "execution_count": 64,
   "id": "dc449c08-5c10-4eb7-bdae-148e19a56832",
   "metadata": {},
   "outputs": [
    {
     "name": "stdout",
     "output_type": "stream",
     "text": [
      "Found pretrained model at ../traning/lr_3.0/ssl/best_val.ckpt, loading...\n",
      "max_mem_size is dummy for RepulsiveEllipsoidPackingLossUnitNorm\n",
      "lw2 is dummy for RepulsiveEllipsoidPackingLossUnitNorm\n"
     ]
    }
   ],
   "source": [
    "device = torch.device(\"cuda:0\")  # Use GPU 0\n",
    "trained_filename = os.path.join(model_dir,\"ssl\",'best_val.ckpt')\n",
    "if os.path.isfile(trained_filename):\n",
    "    print(f'Found pretrained model at {trained_filename}, loading...')\n",
    "    ssl_model = lightning_models.CLAP.load_from_checkpoint(trained_filename)\n",
    "ssl_model.backbone.remove_projection_head()\n",
    "backbone = ssl_model.backbone.to(device)"
   ]
  },
  {
   "cell_type": "code",
   "execution_count": 65,
   "id": "bc70b116-fd5e-4cc9-aefc-1fe3d1cc0d76",
   "metadata": {},
   "outputs": [],
   "source": [
    "def get_representations(backbone,test_dataset,count=2400):\n",
    "    test_loader = torch.utils.data.DataLoader(test_dataset,batch_size = batch_size,shuffle=True,drop_last=True,\n",
    "                                              num_workers = 4,pin_memory=True)\n",
    "    rep_vecs = []\n",
    "    all_labels =[]\n",
    "    i = 0\n",
    "    for i,data in enumerate(test_loader):\n",
    "        imgs,labels = data\n",
    "        if i > count - 1:\n",
    "            break\n",
    "        all_labels.append(labels[0].detach().cpu())\n",
    "        imgs = torch.cat(imgs,dim=0).to(device)\n",
    "        with torch.no_grad():\n",
    "            preds = backbone(imgs)\n",
    "            preds = torch.reshape(preds,(batch_size,preds.shape[-1]))\n",
    "            centers = torch.mean(preds,dim=0)\n",
    "            preds -= centers\n",
    "            rep_vecs.append(preds)\n",
    "            \n",
    "    rep_vecs = torch.cat(rep_vecs,dim=0).detach().cpu().numpy()\n",
    "    all_labels = torch.cat(all_labels,dim=-1).detach().cpu().numpy()\n",
    "    return rep_vecs,all_labels"
   ]
  },
  {
   "cell_type": "code",
   "execution_count": 66,
   "id": "f071e9d9-8530-4f16-b0c2-7907fa28cfb2",
   "metadata": {},
   "outputs": [],
   "source": [
    "x,y = get_representations(backbone,val_dataset,count=3000)"
   ]
  },
  {
   "cell_type": "code",
   "execution_count": 67,
   "id": "f386423b-a8ba-475a-8cc4-0e365c3a9a70",
   "metadata": {},
   "outputs": [],
   "source": [
    "t_sne = TSNE(\n",
    "    n_components=2,\n",
    "    perplexity=30,\n",
    "    max_iter=600,\n",
    "    random_state=0,\n",
    ")\n",
    "X = t_sne.fit_transform(x)"
   ]
  },
  {
   "cell_type": "code",
   "execution_count": 72,
   "id": "1847b1ef-cbdb-450a-a499-2537ace0a248",
   "metadata": {},
   "outputs": [],
   "source": [
    "def plot_embedding(x,y,classes, title):\n",
    "    _, ax = plt.subplots()\n",
    "    #X = MinMaxScaler().fit_transform(x)\n",
    "    color = 0\n",
    "    for c in classes:\n",
    "        pos = np.where(y==c)\n",
    "        print(X[pos].shape)\n",
    "        ax.scatter(\n",
    "            X[pos][:,0],X[pos][:,1],\n",
    "            marker=\".\",\n",
    "            s=60,\n",
    "            color=plt.cm.tab10(color),\n",
    "            alpha=1.0,\n",
    "            zorder=2,label = str(c)\n",
    "        )\n",
    "        color += 1\n",
    "    ax.set_title(title)\n",
    "    ax.axis(\"off\")\n",
    "    ax.legend()"
   ]
  },
  {
   "cell_type": "code",
   "execution_count": 73,
   "id": "c2e3eb2c-b8e4-41f0-8171-89ad84d3e14b",
   "metadata": {},
   "outputs": [
    {
     "name": "stdout",
     "output_type": "stream",
     "text": [
      "(50, 2)\n",
      "(50, 2)\n",
      "(50, 2)\n",
      "(50, 2)\n",
      "(48, 2)\n"
     ]
    },
    {
     "data": {
      "image/png": "[encoded data removed]",
      "text/plain": [
       "<Figure size 640x480 with 1 Axes>"
      ]
     },
     "metadata": {},
     "output_type": "display_data"
    }
   ],
   "source": [
    "plot_embedding(X,y,classes,\"Imagenet\")"
   ]
  },
  {
   "cell_type": "code",
   "execution_count": 74,
   "id": "f510ac88-0928-4325-90ea-2a48cab43fcf",
   "metadata": {},
   "outputs": [
    {
     "name": "stdout",
     "output_type": "stream",
     "text": [
      "Loading default settings...\n",
      "[INFO]does not exist in the config file\n",
      "[DATA]does not exist in the config file\n",
      "[SSL]does not exist in the config file\n",
      "[LC]does not exist in the config file\n",
      "[SemiSL]does not exist in the config file\n",
      "[TL]does not exist in the config file\n",
      "[SemiSL]does not exist in the config file\n",
      "[TL]does not exist in the config file\n",
      "[INFO]\n",
      "num_nodes = 2\n",
      "gpus_per_node = 4\n",
      "cpus_per_gpu = 12\n",
      "prefetch_factor = 2\n",
      "precision = 16-mixed\n",
      "fix_random_seed = True\n",
      "strategy = ddp\n",
      "if_profile = False\n",
      "\n",
      "[DATA]\n",
      "dataset = IMAGENET1K-30percent\n",
      "n_views = 8\n",
      "augmentation_package = albumentations\n",
      "augmentations = ['RandomResizedCrop', 'GaussianBlur', 'RandomGrayscale', 'ColorJitter', 'RandomHorizontalFlip', 'RandomSolarize']\n",
      "crop_size = 224\n",
      "crop_min_scale = 0.08\n",
      "crop_max_scale = 1.0\n",
      "hflip_prob = 0.5\n",
      "blur_kernel_size = 23\n",
      "blur_prob = 0.5\n",
      "grayscale_prob = 0.2\n",
      "jitter_brightness = 0.8\n",
      "jitter_contrast = 0.8\n",
      "jitter_saturation = 0.8\n",
      "jitter_hue = 0.2\n",
      "jitter_prob = 0.8\n",
      "solarize_prob = 0.0\n",
      "imagenet_train_dir = /imagenet/train\n",
      "imagenet_val_dir = /imagenet/val\n",
      "\n",
      "[SSL]\n",
      "backbone = resnet50\n",
      "use_projection_head = True\n",
      "proj_dim = [8192, 8192]\n",
      "proj_out_dim = 512\n",
      "optimizer = LARS\n",
      "lr = 1.0\n",
      "lr_scale = linear\n",
      "lr_scheduler = cosine-warmup\n",
      "grad_accumulation_steps = 1\n",
      "momentum = 0.0\n",
      "weight_decay = 1e-05\n",
      "lars_eta = 0.001\n",
      "loss_function = RepulsiveEllipsoidPackingLossUnitNorm\n",
      "lw0 = 0.0\n",
      "lw1 = 1.0\n",
      "lw2 = 0.0\n",
      "max_mem_size = 0\n",
      "rs = 7.0\n",
      "pot_pow = 2.0\n",
      "max_grad_norm = -1.0\n",
      "warmup_epochs = 10\n",
      "n_epochs = 100\n",
      "batch_size = 800\n",
      "save_every_n_epochs = 10\n",
      "restart_training = False\n",
      "\n",
      "[LC]\n",
      "output_dim = 1000\n",
      "optimizer = SGD\n",
      "use_batch_norm = False\n",
      "lr_sweep = [0.6, 0.1]\n",
      "lr_scale = linear\n",
      "lr_scheduler = cosine\n",
      "weight_decay = 1e-06\n",
      "momentum = 0.9\n",
      "loss_function = CrossEntropyLoss\n",
      "n_epochs = 100\n",
      "batch_size = 1024\n",
      "save_every_n_epochs = 50\n",
      "apply_simple_augmentations = True\n",
      "standardize_to_imagenet = True\n",
      "restart_training = False\n",
      "\n",
      "max_mem_size is dummy for RepulsiveEllipsoidPackingLossUnitNorm\n",
      "lw2 is dummy for RepulsiveEllipsoidPackingLossUnitNorm\n",
      "Found pretrained model at ../traning/lr_1.0/ssl/best_val.ckpt, loading...\n",
      "max_mem_size is dummy for RepulsiveEllipsoidPackingLossUnitNorm\n",
      "lw2 is dummy for RepulsiveEllipsoidPackingLossUnitNorm\n"
     ]
    }
   ],
   "source": [
    "model_dir = \"../traning/lr_1.0\"\n",
    "config = helper.Config(model_dir,default_config_file=\"../default_configs/default_config_imagenet.ini\")\n",
    "if \"CIFAR\" in config.DATA[\"dataset\"] or \"MNIST\" in config.DATA[\"dataset\"]:\n",
    "    prune_backbone = True\n",
    "else:\n",
    "    prune_backbone = False\n",
    "ssl_model = lightning_models.CLAP(backbone_name = config.SSL[\"backbone\"],\n",
    "                                  prune = prune_backbone,\n",
    "                                  use_projection_head=config.SSL[\"use_projection_head\"],\n",
    "                                  proj_dim = config.SSL[\"proj_dim\"],\n",
    "                                  proj_out_dim = config.SSL[\"proj_out_dim\"],\n",
    "                                  loss_name= config.SSL[\"loss_function\"],\n",
    "                                  optim_name = config.SSL[\"optimizer\"],\n",
    "                                  lr = 1.0,\n",
    "                                  scheduler_name = config.SSL[\"lr_scheduler\"],\n",
    "                                  momentum = config.SSL[\"momentum\"],\n",
    "                                  weight_decay = config.SSL[\"weight_decay\"],\n",
    "                                  eta = config.SSL[\"lars_eta\"],\n",
    "                                  warmup_epochs = config.SSL[\"warmup_epochs\"],\n",
    "                                  n_epochs = config.SSL[\"n_epochs\"],\n",
    "                                  n_views = config.DATA[\"n_views\"],\n",
    "                                  batch_size = config.SSL[\"batch_size\"],\n",
    "                                  lw0 = config.SSL[\"lw0\"],\n",
    "                                  lw1 = config.SSL[\"lw1\"],\n",
    "                                  lw2 = config.SSL[\"lw2\"],\n",
    "                                  rs = config.SSL[\"rs\"],\n",
    "                                  pot_pow = config.SSL[\"pot_pow\"])\n",
    "device = torch.device(\"cuda:0\")  # Use GPU 0\n",
    "trained_filename = os.path.join(model_dir,\"ssl\",'best_val.ckpt')\n",
    "if os.path.isfile(trained_filename):\n",
    "    print(f'Found pretrained model at {trained_filename}, loading...')\n",
    "    ssl_model = lightning_models.CLAP.load_from_checkpoint(trained_filename)\n",
    "ssl_model.backbone.remove_projection_head()\n",
    "backbone = ssl_model.backbone.to(device)"
   ]
  },
  {
   "cell_type": "code",
   "execution_count": 77,
   "id": "95ca4f63-eaa4-4373-bf57-78c2cfab589f",
   "metadata": {},
   "outputs": [],
   "source": [
    "x,y = get_representations(backbone,val_dataset,count=3000)\n",
    "t_sne = TSNE(\n",
    "    n_components=2,\n",
    "    perplexity=30,\n",
    "    max_iter=800,\n",
    "    random_state=0,\n",
    ")\n",
    "X = t_sne.fit_transform(x)"
   ]
  },
  {
   "cell_type": "code",
   "execution_count": 78,
   "id": "4476bac1-e93c-4312-9612-5a7dea9dcbcc",
   "metadata": {},
   "outputs": [
    {
     "name": "stdout",
     "output_type": "stream",
     "text": [
      "(50, 2)\n",
      "(50, 2)\n",
      "(49, 2)\n",
      "(49, 2)\n",
      "(50, 2)\n"
     ]
    },
    {
     "data": {
      "image/png": "[encoded data removed]",
      "text/plain": [
       "<Figure size 640x480 with 1 Axes>"
      ]
     },
     "metadata": {},
     "output_type": "display_data"
    }
   ],
   "source": [
    "plot_embedding(X,y,classes,\"Imagenet\")"
   ]
  },
  {
   "cell_type": "code",
   "execution_count": null,
   "id": "361e1685-ed6d-4118-be95-f3c59a86e20b",
   "metadata": {},
   "outputs": [],
   "source": []
  }
 ],
 "metadata": {
  "kernelspec": {
   "display_name": "Python 3 (ipykernel)",
   "language": "python",
   "name": "python3"
  },
  "language_info": {
   "codemirror_mode": {
    "name": "ipython",
    "version": 3
   },
   "file_extension": ".py",
   "mimetype": "text/x-python",
   "name": "python",
   "nbconvert_exporter": "python",
   "pygments_lexer": "ipython3",
   "version": "3.12.2"
  }
 },
 "nbformat": 4,
 "nbformat_minor": 5
}
