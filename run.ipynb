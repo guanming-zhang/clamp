{
 "cells": [
  {
   "cell_type": "code",
   "execution_count": 1,
   "id": "6fdc4670-6643-4540-9fd9-3e9c5edb4c4e",
   "metadata": {},
   "outputs": [],
   "source": [
    "import sys\n",
    "from utils import data_utils\n",
    "import helper\n",
    "import matplotlib.pyplot as plt\n",
    "from utils import training_utils\n",
    "from utils import data_utils\n",
    "import torch\n",
    "from model import models\n",
    "import json\n",
    "import os\n",
    "from model import lightning_models"
   ]
  },
  {
   "cell_type": "code",
   "execution_count": 2,
   "id": "b548de5c-edbb-4da6-8e44-3f8e45615cd4",
   "metadata": {
    "scrolled": true
   },
   "outputs": [
    {
     "name": "stdout",
     "output_type": "stream",
     "text": [
      "[INFO]\n",
      "num_nodes = 1\n",
      "gpu_per_node = 1\n",
      "num_workers = 8\n",
      "\n",
      "[DATA]\n",
      "dataset = MNIST\n",
      "n_views = 10\n",
      "augmentations = GaussianBlur\n",
      "blur_kernel_size = 3\n",
      "\n",
      "[SSL]\n",
      "backbone = resnet34\n",
      "embedded_dim = 2\n",
      "optimizer = SGD\n",
      "use_projection_header = yes\n",
      "proj_dim = 8\n",
      "lr = 0.0005\n",
      "momentum = 0.99\n",
      "loss_function = EllipsoidPackingLoss\n",
      "lw0 = 1.0\n",
      "lw1 = 1.0\n",
      "lw2 = 1.0\n",
      "n_epochs = 3\n",
      "batch_size = 128\n",
      "\n",
      "[LC]\n",
      "output_dim = 10\n",
      "optimizer = SGD\n",
      "weight_decay = 0.1\n",
      "use_batch_norm = yes\n",
      "lr = 0.01\n",
      "momentum = 0.99\n",
      "loss_function = CrossEntropyLoss\n",
      "n_epochs = 3\n",
      "batch_size = 128\n",
      "\n",
      "[IO]\n",
      "mode = new\n",
      "\n"
     ]
    }
   ],
   "source": [
    "config = helper.Config(\"./simulations\")"
   ]
  },
  {
   "cell_type": "code",
   "execution_count": 3,
   "id": "72a2a26b-d596-42f5-85d0-40e7bfe4ac4c",
   "metadata": {},
   "outputs": [
    {
     "name": "stderr",
     "output_type": "stream",
     "text": [
      "Clipping input data to the valid range for imshow with RGB data ([0..1] for floats or [0..255] for integers).\n",
      "Clipping input data to the valid range for imshow with RGB data ([0..1] for floats or [0..255] for integers).\n",
      "Clipping input data to the valid range for imshow with RGB data ([0..1] for floats or [0..255] for integers).\n",
      "Clipping input data to the valid range for imshow with RGB data ([0..1] for floats or [0..255] for integers).\n"
     ]
    },
    {
     "name": "stdout",
     "output_type": "stream",
     "text": [
      "468\n"
     ]
    },
    {
     "data": {
      "image/png": "[encoded data removed]",
      "text/plain": [
       "<Figure size 640x480 with 4 Axes>"
      ]
     },
     "metadata": {},
     "output_type": "display_data"
    }
   ],
   "source": [
    "ssl_train_loader,lc_train_loader,test_loader= data_utils.get_dataloader(config.DATA,config.SSL[\"batch_size\"],config.LC[\"batch_size\"],config.INFO[\"num_workers\"])\n",
    "imgs,labels = next(iter(ssl_train_loader))\n",
    "img_list, label_list = [],[]\n",
    "for i_view in range(2):\n",
    "    for j_img in range(2):\n",
    "        img_list.append(imgs[i_view][j_img])\n",
    "        #label_list.append(classes[labels[i_view][j_img]])\n",
    "data_utils.show_images(img_list,2,2,label_list)\n",
    "print(len(ssl_train_loader))"
   ]
  },
  {
   "cell_type": "code",
   "execution_count": 4,
   "id": "337f8759-849a-4733-a6d0-d0319d708929",
   "metadata": {},
   "outputs": [],
   "source": [
    "ssl_model = lightning_models.CLAP(embedded_dim = config.SSL[\"embedded_dim\"],\n",
    "                                  backbone_name = config.SSL[\"backbone\"],\n",
    "                                  use_projection_header=config.SSL[\"use_projection_header\"],\n",
    "                                  proj_dim = config.SSL[\"proj_dim\"],\n",
    "                                  optim_name = config.SSL[\"optimizer\"],\n",
    "                                  lr = config.SSL[\"lr\"],\n",
    "                                  momentum = config.SSL[\"momentum\"],\n",
    "                                  weight_decay = config.SSL[\"weight_decay\"],\n",
    "                                  eta = config.SSL[\"lars_eta\"],\n",
    "                                  warmup_epochs = config.SSL[\"warmup_epochs\"],\n",
    "                                  n_epochs = config.SSL[\"n_epochs\"],\n",
    "                                  n_views = config.DATA[\"n_views\"],\n",
    "                                  batch_size = config.SSL[\"batch_size\"],\n",
    "                                  lw0 = config.SSL[\"lw0\"],\n",
    "                                  lw1 = config.SSL[\"lw1\"],\n",
    "                                  lw2 = config.SSL[\"lw2\"],\n",
    "                                  rs = config.SSL[\"rs\"])"
   ]
  },
  {
   "cell_type": "code",
   "execution_count": 5,
   "id": "a3edafb7-64e3-4c18-876f-a3900954832e",
   "metadata": {},
   "outputs": [
    {
     "name": "stderr",
     "output_type": "stream",
     "text": [
      "GPU available: True (cuda), used: True\n",
      "TPU available: False, using: 0 TPU cores\n",
      "HPU available: False, using: 0 HPUs\n"
     ]
    },
    {
     "name": "stdout",
     "output_type": "stream",
     "text": [
      "Found pretrained model at ./simulations/ssl/last.ckpt, loading...\n"
     ]
    }
   ],
   "source": [
    "ssl_dir = os.path.join(config.loc,\"ssl\")\n",
    "if not os.path.isdir(ssl_dir):\n",
    "    os.makedirs(ssl_dir)\n",
    "ssl_model = lightning_models.train_clap(model=ssl_model, train_loader = ssl_train_loader,\n",
    "            max_epochs=config.SSL[\"n_epochs\"],every_n_epochs = config.SSL[\"update_ssl_model_every_n_epochs\"],\n",
    "                                        checkpoint_path=ssl_dir)"
   ]
  },
  {
   "cell_type": "code",
   "execution_count": null,
   "id": "a1afc30c-f70e-4a4a-b703-93873d8644ab",
   "metadata": {},
   "outputs": [],
   "source": [
    "lc_dir = os.path.join(config.loc,\"lc\")\n",
    "if not os.path.isdir(lc_dir):\n",
    "    os.makedirs(lc_dir)\n",
    "ssl_model.backbone.remove_projection_header()\n",
    "lc_model = lightning_models.LinearClassification(backbone = ssl_model.backbone,\n",
    "                 in_dim = config.SSL[\"embedded_dim\"],\n",
    "                 out_dim = config.LC[\"output_dim\"],\n",
    "                 use_batch_norm = config.LC[\"use_batch_norm\"],\n",
    "                 optim_name = config.LC[\"optimizer\"],\n",
    "                 lr = config.LC[\"lr\"], \n",
    "                 momentum = config.LC[\"momentum\"],\n",
    "                 weight_decay = config.LC[\"weight_decay\"],\n",
    "                 n_epochs = config.LC[\"n_epochs\"])\n",
    "lc_model = lightning_models.train_lc(lc_model, lc_train_loader,test_loader,config.LC[\"n_epochs\"],every_n_epochs=1000,checkpoint_path=lc_dir)"
   ]
  },
  {
   "cell_type": "code",
   "execution_count": null,
   "id": "64b04ce3-d73e-4191-bf9c-296418343dba",
   "metadata": {
    "scrolled": true
   },
   "outputs": [],
   "source": [
    "class combined_nn(torch.nn.Module):\n",
    "    def __init__(self,net1,net2):\n",
    "        super().__init__()\n",
    "        self.net1 = net1\n",
    "        self.net2 = net2\n",
    "    def forward(self,x):\n",
    "        self.net1.eval()\n",
    "        y = self.net1(x)\n",
    "        return self.net2(y)\n",
    "\n",
    "if config.TRAINING[\"training_mode\"] == \"new_training\":\n",
    "    # train the self supervised learning\n",
    "    ssl_log_dir = os.path.join(config.loc,'ssl_log')\n",
    "    lc_log_dir = os.path.join(config.loc,'lc_log')\n",
    "    if not os.path.isdir(ssl_log_dir):\n",
    "        os.makedirs(ssl_log_dir)\n",
    "    if not os.path.isdir(lc_log_dir):\n",
    "        os.makedirs(lc_log_dir)\n",
    "    print(\"----------self supervised learning starts--------------\")\n",
    "    ssl_trainer = training_utils.model_trainer(backbone,ssl_optim,loss=ssl_loss,train_loader=ssl_train_loader,\n",
    "                                        test_loader=None,val_loader=None,\n",
    "                                        logdir=ssl_log_dir,is_supervised=False,device=helper.get_device())\n",
    "    \n",
    "    result = ssl_trainer.train_model(config.SSL[\"n_epoch\"],20)\n",
    "    save_dir = os.path.join(config.loc,config.TRAINING[\"save_checkpoint_dir\"])\n",
    "    if not os.path.isdir(save_dir):\n",
    "        os.makedirs(save_dir)\n",
    "    helper.save_checkpoint(os.path.join(save_dir,\"ssl_checkpoint.pt\"),backbone,ssl_optim,ssl_trainer)\n",
    "    with open(os.path.join(save_dir,\"ssl_training_result.json\"),\"w\") as f:\n",
    "        f.write(json.dumps(result))\n",
    "    if config.SSL[\"use_projection_header\"]:\n",
    "        backbone.remove_projection_header()\n",
    "   \n",
    "    print(\"----------linear classification starts--------------\")\n",
    "    combine = combined_nn(backbone,linear_net)\n",
    "    lc_trainer = training_utils.model_trainer(combine,lc_optim,loss=lc_loss,train_loader=lc_train_loader,\n",
    "                                       test_loader=test_loader,val_loader=None,\n",
    "                                       logdir=lc_log_dir,is_supervised=True,device=helper.get_device())\n",
    "    result = lc_trainer.train_model(config.LC[\"n_epoch\"],20)\n",
    "    helper.save_checkpoint(os.path.join(save_dir,\"lc_checkpoint.pt\"),linear_net,lc_optim,lc_trainer)\n",
    "    with open(os.path.join(save_dir,\"lc_training_result.json\"),\"w\") as f:\n",
    "        f.write(json.dumps(result))\n",
    "elif config.TRAINING[\"training_mode\"] == \"continue_training\":\n",
    "    # train the self supervised learning\n",
    "    ssl_log_dir = os.path.join(config.loc,'ssl_log')\n",
    "    ssl_trainer = training_utils.model_trainer(backbone,ssl_optim,loss=ssl_loss,train_loader=ssl_train_loader,\n",
    "                                        test_loader=None,val_loader=None,\n",
    "                                        logdir=ssl_log_dir,is_supervised=False,device=helper.get_device())\n",
    "    load_dir = os.path.join(config.loc,config.TRAINING[\"load_checkpoint_dir\"])\n",
    "    save_dir = os.path.join(config.loc,config.TRAINING[\"save_checkpoint_dir\"])\n",
    "    backbone.to(helper.get_device())\n",
    "    helper.load_checkpoint(os.path.join(load_dir,\"ssl_checkpoint.pt\"),backbone,ssl_optim,ssl_trainer,device=helper.get_device())\n",
    "    #ssl_trainer.train_model(config.SSL[\"n_epoch\"],20)\n",
    "    if not os.path.isdir(save_dir):\n",
    "        os.makedirs(save_dir)\n",
    "    helper.save_checkpoint(os.path.join(save_dir,\"ssl_checkpoint.pt\"),backbone,ssl_optim,ssl_trainer)\n",
    "    #linear classification`weights=None\n",
    "    if config.SSL[\"use_projection_header\"]:\n",
    "        backbone.remove_projection_header()\n",
    "    linear_net.to(helper.get_device())\n",
    "    combine = combined_nn(backbone,linear_net)\n",
    "    lc_log_dir = os.path.join(config.loc,'ssl_log')\n",
    "    lc_trainer = training_utils.model_trainer(combine,lc_optim,loss=lc_loss,train_loader=lc_train_loader,\n",
    "                                              test_loader=test_loader,val_loader=None,\n",
    "                                              logdir=lc_log_dir,is_supervised=True,device=helper.get_device())\n",
    "    helper.load_checkpoint(os.path.join(load_dir,\"lc_checkpoint.pt\"),linear_net,lc_optim,lc_trainer,device=helper.get_device())\n",
    "    result = lc_trainer.train_model(config.LC[\"n_epoch\"],20)\n",
    "    helper.save_checkpoint(os.path.join(save_dir,\"lc_checkpoint.pt\"),linear_net,lc_optim,lc_trainer)\n",
    "    print(result)\n",
    "    colors_str = [\"blue\",\"red\"]\n",
    "    fig = plt.figure()\n",
    "    ax = fig.add_subplot(111)\n",
    "    for imgs,labels in test_loader:\n",
    "        imgs,labels = imgs[0].to(helper.get_device()),labels[0].to(helper.get_device()) \n",
    "        v = backbone(imgs)\n",
    "        print(v.shape)\n",
    "        points = v.numpy(force = True)\n",
    "        labels = labels.numpy(force=True).tolist()\n",
    "        colors = [colors_str[l] for l in labels]\n",
    "        ax.scatter(points[:,0],points[:,1],c = colors,s=0.1,alpha=0.5)\n"
   ]
  },
  {
   "cell_type": "code",
   "execution_count": 6,
   "id": "29251d31",
   "metadata": {},
   "outputs": [
    {
     "name": "stdout",
     "output_type": "stream",
     "text": [
      "[0.44655028289678145, 0.37158200783388956, 0.362361804563172, 0.3497312257484514, 0.3633651757726864, 0.3659734303245739]\n"
     ]
    },
    {
     "data": {
      "image/png": "[encoded data removed]",
      "text/plain": [
       "<Figure size 640x480 with 1 Axes>"
      ]
     },
     "metadata": {},
     "output_type": "display_data"
    }
   ],
   "source": [
    "print(ssl_trainer.state_dict()[\"training_loss\"])\n",
    "fig = plt.figure()\n",
    "ax = fig.add_subplot(111)\n",
    "ax.plot(ssl_trainer.state_dict()[\"training_loss\"])\n",
    "ax.set_title(\"SSL training loss\")\n",
    "fig.savefig(os.path.join(config.loc,\"ssl_trainingloss.jpg\"),dpi=300)"
   ]
  },
  {
   "cell_type": "code",
   "execution_count": 7,
   "id": "1f78ce19",
   "metadata": {},
   "outputs": [
    {
     "data": {
      "image/png": "[encoded data removed]",
      "text/plain": [
       "<Figure size 640x480 with 1 Axes>"
      ]
     },
     "metadata": {},
     "output_type": "display_data"
    }
   ],
   "source": [
    "combine.eval()\n",
    "colors_str = [\"blue\",\"red\"]\n",
    "fig = plt.figure()\n",
    "ax = fig.add_subplot(111)\n",
    "for imgs,labels in lc_train_loader:\n",
    "    imgs,labels = imgs[0].to(helper.get_device()),labels[0].to(helper.get_device()) \n",
    "    v = backbone(imgs)\n",
    "    points = v.numpy(force = True)\n",
    "    labels = labels.numpy(force=True).tolist()\n",
    "    colors = [colors_str[l] for l in labels]\n",
    "    ax.scatter(points[:,0],points[:,1],c = colors,s=0.1,alpha=0.5)\n",
    "fig.savefig(os.path.join(config.loc,\"embedded_space.jpg\"),dpi=300)"
   ]
  },
  {
   "cell_type": "code",
   "execution_count": 8,
   "id": "81b4df3f",
   "metadata": {},
   "outputs": [
    {
     "data": {
      "text/plain": [
       "{'training_accuracy': [0.6159119606018066,\n",
       "  0.7643494606018066,\n",
       "  0.7991868257522583,\n",
       "  0.8086734414100647,\n",
       "  0.8128188848495483,\n",
       "  0.8145726919174194],\n",
       " 'training_loss': [0.7303550045709221,\n",
       "  0.4462836202310056,\n",
       "  0.3824786969593593,\n",
       "  0.3878221627400846,\n",
       "  0.38468353115782444,\n",
       "  0.3806131171936892],\n",
       " 'validation_accuracy': [0.0, 0.0, 0.0, 0.0, 0.0, 0.0],\n",
       " 'validation_loss': [-1.0, -1.0, -1.0, -1.0, -1.0, -1.0],\n",
       " 'test_loss': 0.3621816635131836,\n",
       " 'test_accuracy': 0.82080078125,\n",
       " 'top5_accuracy': -1.0,\n",
       " 'current_epoch': 6}"
      ]
     },
     "execution_count": 8,
     "metadata": {},
     "output_type": "execute_result"
    }
   ],
   "source": [
    "result"
   ]
  },
  {
   "cell_type": "code",
   "execution_count": 10,
   "id": "8d91699d",
   "metadata": {},
   "outputs": [
    {
     "data": {
      "text/plain": [
       "1"
      ]
     },
     "execution_count": 10,
     "metadata": {},
     "output_type": "execute_result"
    }
   ],
   "source": [
    "torch.cuda.device_count()"
   ]
  },
  {
   "cell_type": "code",
   "execution_count": null,
   "id": "88681e77-5ab3-4401-8d14-34606a63fc32",
   "metadata": {},
   "outputs": [],
   "source": []
  }
 ],
 "metadata": {
  "kernelspec": {
   "display_name": "Python 3 (ipykernel)",
   "language": "python",
   "name": "python3"
  },
  "language_info": {
   "codemirror_mode": {
    "name": "ipython",
    "version": 3
   },
   "file_extension": ".py",
   "mimetype": "text/x-python",
   "name": "python",
   "nbconvert_exporter": "python",
   "pygments_lexer": "ipython3",
   "version": "3.12.2"
  }
 },
 "nbformat": 4,
 "nbformat_minor": 5
}
